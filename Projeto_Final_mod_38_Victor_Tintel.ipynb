{
 "cells": [
  {
   "cell_type": "markdown",
   "metadata": {
    "colab_type": "text",
    "id": "Y57RMM1LEQmR"
   },
   "source": [
    "#  <span style=\"color:orange\">Pycaret usando a base de dados do projeto</span>"
   ]
  },
  {
   "cell_type": "markdown",
   "metadata": {
    "colab_type": "text",
    "id": "Ui_rALqYEQmv"
   },
   "source": [
    "# Carregando os dados"
   ]
  },
  {
   "cell_type": "code",
   "execution_count": 3,
   "metadata": {
    "colab": {
     "base_uri": "https://localhost:8080/",
     "height": 211
    },
    "colab_type": "code",
    "id": "lUvE187JEQm3",
    "outputId": "8741262c-0e33-4ec0-b54d-3c8fb41e52c0"
   },
   "outputs": [],
   "source": [
    "import pandas as pd\n",
    "df = pd.read_feather('credit_scoring.ftr')"
   ]
  },
  {
   "cell_type": "code",
   "execution_count": 4,
   "metadata": {
    "colab": {
     "base_uri": "https://localhost:8080/",
     "height": 33
    },
    "colab_type": "code",
    "id": "kMqDGBkJEQnN",
    "outputId": "b2015b7a-4c1a-4377-d9cf-3e9ac5ce3ea2"
   },
   "outputs": [
    {
     "data": {
      "text/plain": [
       "(750000, 15)"
      ]
     },
     "execution_count": 4,
     "metadata": {},
     "output_type": "execute_result"
    }
   ],
   "source": [
    "df.shape"
   ]
  },
  {
   "cell_type": "code",
   "execution_count": 5,
   "metadata": {},
   "outputs": [
    {
     "data": {
      "text/plain": [
       "Index(['data_ref', 'index', 'sexo', 'posse_de_veiculo', 'posse_de_imovel',\n",
       "       'qtd_filhos', 'tipo_renda', 'educacao', 'estado_civil',\n",
       "       'tipo_residencia', 'idade', 'tempo_emprego', 'qt_pessoas_residencia',\n",
       "       'renda', 'mau'],\n",
       "      dtype='object')"
      ]
     },
     "execution_count": 5,
     "metadata": {},
     "output_type": "execute_result"
    }
   ],
   "source": [
    "df.columns"
   ]
  },
  {
   "cell_type": "code",
   "execution_count": 6,
   "metadata": {},
   "outputs": [],
   "source": [
    "dataset = df.sample(50000)"
   ]
  },
  {
   "cell_type": "code",
   "execution_count": 7,
   "metadata": {},
   "outputs": [],
   "source": [
    "dataset.drop(['data_ref','index'], axis=1, inplace=True)"
   ]
  },
  {
   "cell_type": "code",
   "execution_count": 8,
   "metadata": {},
   "outputs": [
    {
     "name": "stdout",
     "output_type": "stream",
     "text": [
      "Conjunto de dados para modelagem (treino e teste): (47500, 13)\n",
      "Conjunto de dados não usados no treino/teste, apenas como validação: (2500, 13)\n"
     ]
    }
   ],
   "source": [
    "data = dataset.sample(frac=0.95, random_state=786)\n",
    "data_unseen = dataset.drop(data.index)\n",
    "data.reset_index(inplace=True, drop=True)\n",
    "data_unseen.reset_index(inplace=True, drop=True)\n",
    "print('Conjunto de dados para modelagem (treino e teste): ' + str(data.shape))\n",
    "print('Conjunto de dados não usados no treino/teste, apenas como validação: ' + str(data_unseen.shape))"
   ]
  },
  {
   "cell_type": "code",
   "execution_count": 9,
   "metadata": {
    "colab": {},
    "colab_type": "code",
    "id": "BOmRR0deEQoA"
   },
   "outputs": [],
   "source": [
    "from pycaret.classification import *"
   ]
  },
  {
   "cell_type": "markdown",
   "metadata": {},
   "source": [
    "# Configurando o pycaret"
   ]
  },
  {
   "cell_type": "code",
   "execution_count": 10,
   "metadata": {
    "colab": {
     "base_uri": "https://localhost:8080/",
     "height": 803
    },
    "colab_type": "code",
    "id": "k2IuvfDHEQoO",
    "outputId": "c7754ae9-b060-4218-b6f0-de65a815aa3a",
    "scrolled": false
   },
   "outputs": [
    {
     "data": {
      "text/html": [
       "<style type=\"text/css\">\n",
       "#T_d0f29_row10_col1 {\n",
       "  background-color: lightgreen;\n",
       "}\n",
       "</style>\n",
       "<table id=\"T_d0f29\">\n",
       "  <thead>\n",
       "    <tr>\n",
       "      <th class=\"blank level0\" >&nbsp;</th>\n",
       "      <th id=\"T_d0f29_level0_col0\" class=\"col_heading level0 col0\" >Description</th>\n",
       "      <th id=\"T_d0f29_level0_col1\" class=\"col_heading level0 col1\" >Value</th>\n",
       "    </tr>\n",
       "  </thead>\n",
       "  <tbody>\n",
       "    <tr>\n",
       "      <th id=\"T_d0f29_level0_row0\" class=\"row_heading level0 row0\" >0</th>\n",
       "      <td id=\"T_d0f29_row0_col0\" class=\"data row0 col0\" >Session id</td>\n",
       "      <td id=\"T_d0f29_row0_col1\" class=\"data row0 col1\" >123</td>\n",
       "    </tr>\n",
       "    <tr>\n",
       "      <th id=\"T_d0f29_level0_row1\" class=\"row_heading level0 row1\" >1</th>\n",
       "      <td id=\"T_d0f29_row1_col0\" class=\"data row1 col0\" >Target</td>\n",
       "      <td id=\"T_d0f29_row1_col1\" class=\"data row1 col1\" >mau</td>\n",
       "    </tr>\n",
       "    <tr>\n",
       "      <th id=\"T_d0f29_level0_row2\" class=\"row_heading level0 row2\" >2</th>\n",
       "      <td id=\"T_d0f29_row2_col0\" class=\"data row2 col0\" >Target type</td>\n",
       "      <td id=\"T_d0f29_row2_col1\" class=\"data row2 col1\" >Binary</td>\n",
       "    </tr>\n",
       "    <tr>\n",
       "      <th id=\"T_d0f29_level0_row3\" class=\"row_heading level0 row3\" >3</th>\n",
       "      <td id=\"T_d0f29_row3_col0\" class=\"data row3 col0\" >Original data shape</td>\n",
       "      <td id=\"T_d0f29_row3_col1\" class=\"data row3 col1\" >(47500, 13)</td>\n",
       "    </tr>\n",
       "    <tr>\n",
       "      <th id=\"T_d0f29_level0_row4\" class=\"row_heading level0 row4\" >4</th>\n",
       "      <td id=\"T_d0f29_row4_col0\" class=\"data row4 col0\" >Transformed data shape</td>\n",
       "      <td id=\"T_d0f29_row4_col1\" class=\"data row4 col1\" >(47500, 30)</td>\n",
       "    </tr>\n",
       "    <tr>\n",
       "      <th id=\"T_d0f29_level0_row5\" class=\"row_heading level0 row5\" >5</th>\n",
       "      <td id=\"T_d0f29_row5_col0\" class=\"data row5 col0\" >Transformed train set shape</td>\n",
       "      <td id=\"T_d0f29_row5_col1\" class=\"data row5 col1\" >(33250, 30)</td>\n",
       "    </tr>\n",
       "    <tr>\n",
       "      <th id=\"T_d0f29_level0_row6\" class=\"row_heading level0 row6\" >6</th>\n",
       "      <td id=\"T_d0f29_row6_col0\" class=\"data row6 col0\" >Transformed test set shape</td>\n",
       "      <td id=\"T_d0f29_row6_col1\" class=\"data row6 col1\" >(14250, 30)</td>\n",
       "    </tr>\n",
       "    <tr>\n",
       "      <th id=\"T_d0f29_level0_row7\" class=\"row_heading level0 row7\" >7</th>\n",
       "      <td id=\"T_d0f29_row7_col0\" class=\"data row7 col0\" >Numeric features</td>\n",
       "      <td id=\"T_d0f29_row7_col1\" class=\"data row7 col1\" >5</td>\n",
       "    </tr>\n",
       "    <tr>\n",
       "      <th id=\"T_d0f29_level0_row8\" class=\"row_heading level0 row8\" >8</th>\n",
       "      <td id=\"T_d0f29_row8_col0\" class=\"data row8 col0\" >Categorical features</td>\n",
       "      <td id=\"T_d0f29_row8_col1\" class=\"data row8 col1\" >7</td>\n",
       "    </tr>\n",
       "    <tr>\n",
       "      <th id=\"T_d0f29_level0_row9\" class=\"row_heading level0 row9\" >9</th>\n",
       "      <td id=\"T_d0f29_row9_col0\" class=\"data row9 col0\" >Rows with missing values</td>\n",
       "      <td id=\"T_d0f29_row9_col1\" class=\"data row9 col1\" >16.7%</td>\n",
       "    </tr>\n",
       "    <tr>\n",
       "      <th id=\"T_d0f29_level0_row10\" class=\"row_heading level0 row10\" >10</th>\n",
       "      <td id=\"T_d0f29_row10_col0\" class=\"data row10 col0\" >Preprocess</td>\n",
       "      <td id=\"T_d0f29_row10_col1\" class=\"data row10 col1\" >True</td>\n",
       "    </tr>\n",
       "    <tr>\n",
       "      <th id=\"T_d0f29_level0_row11\" class=\"row_heading level0 row11\" >11</th>\n",
       "      <td id=\"T_d0f29_row11_col0\" class=\"data row11 col0\" >Imputation type</td>\n",
       "      <td id=\"T_d0f29_row11_col1\" class=\"data row11 col1\" >simple</td>\n",
       "    </tr>\n",
       "    <tr>\n",
       "      <th id=\"T_d0f29_level0_row12\" class=\"row_heading level0 row12\" >12</th>\n",
       "      <td id=\"T_d0f29_row12_col0\" class=\"data row12 col0\" >Numeric imputation</td>\n",
       "      <td id=\"T_d0f29_row12_col1\" class=\"data row12 col1\" >mean</td>\n",
       "    </tr>\n",
       "    <tr>\n",
       "      <th id=\"T_d0f29_level0_row13\" class=\"row_heading level0 row13\" >13</th>\n",
       "      <td id=\"T_d0f29_row13_col0\" class=\"data row13 col0\" >Categorical imputation</td>\n",
       "      <td id=\"T_d0f29_row13_col1\" class=\"data row13 col1\" >mode</td>\n",
       "    </tr>\n",
       "    <tr>\n",
       "      <th id=\"T_d0f29_level0_row14\" class=\"row_heading level0 row14\" >14</th>\n",
       "      <td id=\"T_d0f29_row14_col0\" class=\"data row14 col0\" >Maximum one-hot encoding</td>\n",
       "      <td id=\"T_d0f29_row14_col1\" class=\"data row14 col1\" >25</td>\n",
       "    </tr>\n",
       "    <tr>\n",
       "      <th id=\"T_d0f29_level0_row15\" class=\"row_heading level0 row15\" >15</th>\n",
       "      <td id=\"T_d0f29_row15_col0\" class=\"data row15 col0\" >Encoding method</td>\n",
       "      <td id=\"T_d0f29_row15_col1\" class=\"data row15 col1\" >None</td>\n",
       "    </tr>\n",
       "    <tr>\n",
       "      <th id=\"T_d0f29_level0_row16\" class=\"row_heading level0 row16\" >16</th>\n",
       "      <td id=\"T_d0f29_row16_col0\" class=\"data row16 col0\" >Fold Generator</td>\n",
       "      <td id=\"T_d0f29_row16_col1\" class=\"data row16 col1\" >StratifiedKFold</td>\n",
       "    </tr>\n",
       "    <tr>\n",
       "      <th id=\"T_d0f29_level0_row17\" class=\"row_heading level0 row17\" >17</th>\n",
       "      <td id=\"T_d0f29_row17_col0\" class=\"data row17 col0\" >Fold Number</td>\n",
       "      <td id=\"T_d0f29_row17_col1\" class=\"data row17 col1\" >10</td>\n",
       "    </tr>\n",
       "    <tr>\n",
       "      <th id=\"T_d0f29_level0_row18\" class=\"row_heading level0 row18\" >18</th>\n",
       "      <td id=\"T_d0f29_row18_col0\" class=\"data row18 col0\" >CPU Jobs</td>\n",
       "      <td id=\"T_d0f29_row18_col1\" class=\"data row18 col1\" >-1</td>\n",
       "    </tr>\n",
       "    <tr>\n",
       "      <th id=\"T_d0f29_level0_row19\" class=\"row_heading level0 row19\" >19</th>\n",
       "      <td id=\"T_d0f29_row19_col0\" class=\"data row19 col0\" >Use GPU</td>\n",
       "      <td id=\"T_d0f29_row19_col1\" class=\"data row19 col1\" >False</td>\n",
       "    </tr>\n",
       "    <tr>\n",
       "      <th id=\"T_d0f29_level0_row20\" class=\"row_heading level0 row20\" >20</th>\n",
       "      <td id=\"T_d0f29_row20_col0\" class=\"data row20 col0\" >Log Experiment</td>\n",
       "      <td id=\"T_d0f29_row20_col1\" class=\"data row20 col1\" >False</td>\n",
       "    </tr>\n",
       "    <tr>\n",
       "      <th id=\"T_d0f29_level0_row21\" class=\"row_heading level0 row21\" >21</th>\n",
       "      <td id=\"T_d0f29_row21_col0\" class=\"data row21 col0\" >Experiment Name</td>\n",
       "      <td id=\"T_d0f29_row21_col1\" class=\"data row21 col1\" >clf-default-name</td>\n",
       "    </tr>\n",
       "    <tr>\n",
       "      <th id=\"T_d0f29_level0_row22\" class=\"row_heading level0 row22\" >22</th>\n",
       "      <td id=\"T_d0f29_row22_col0\" class=\"data row22 col0\" >USI</td>\n",
       "      <td id=\"T_d0f29_row22_col1\" class=\"data row22 col1\" >bccd</td>\n",
       "    </tr>\n",
       "  </tbody>\n",
       "</table>\n"
      ],
      "text/plain": [
       "<pandas.io.formats.style.Styler at 0x237d5112110>"
      ]
     },
     "metadata": {},
     "output_type": "display_data"
    }
   ],
   "source": [
    "exp_clf101 = setup(data = data, target = 'mau', session_id=123) "
   ]
  },
  {
   "cell_type": "code",
   "execution_count": 11,
   "metadata": {},
   "outputs": [
    {
     "data": {
      "text/plain": [
       "sexo                      object\n",
       "posse_de_veiculo          object\n",
       "posse_de_imovel           object\n",
       "qtd_filhos                 int64\n",
       "tipo_renda                object\n",
       "educacao                  object\n",
       "estado_civil              object\n",
       "tipo_residencia           object\n",
       "idade                      int64\n",
       "tempo_emprego            float64\n",
       "qt_pessoas_residencia    float64\n",
       "renda                    float64\n",
       "mau                         bool\n",
       "dtype: object"
      ]
     },
     "execution_count": 11,
     "metadata": {},
     "output_type": "execute_result"
    }
   ],
   "source": [
    "data.dtypes"
   ]
  },
  {
   "cell_type": "code",
   "execution_count": 12,
   "metadata": {},
   "outputs": [],
   "source": [
    "#forçando a variável qnt de filhos como numérica\n",
    "data.qtd_filhos = data.qtd_filhos.astype(float)"
   ]
  },
  {
   "cell_type": "code",
   "execution_count": 13,
   "metadata": {},
   "outputs": [
    {
     "data": {
      "text/html": [
       "<style type=\"text/css\">\n",
       "#T_5e6bb_row10_col1 {\n",
       "  background-color: lightgreen;\n",
       "}\n",
       "</style>\n",
       "<table id=\"T_5e6bb\">\n",
       "  <thead>\n",
       "    <tr>\n",
       "      <th class=\"blank level0\" >&nbsp;</th>\n",
       "      <th id=\"T_5e6bb_level0_col0\" class=\"col_heading level0 col0\" >Description</th>\n",
       "      <th id=\"T_5e6bb_level0_col1\" class=\"col_heading level0 col1\" >Value</th>\n",
       "    </tr>\n",
       "  </thead>\n",
       "  <tbody>\n",
       "    <tr>\n",
       "      <th id=\"T_5e6bb_level0_row0\" class=\"row_heading level0 row0\" >0</th>\n",
       "      <td id=\"T_5e6bb_row0_col0\" class=\"data row0 col0\" >Session id</td>\n",
       "      <td id=\"T_5e6bb_row0_col1\" class=\"data row0 col1\" >123</td>\n",
       "    </tr>\n",
       "    <tr>\n",
       "      <th id=\"T_5e6bb_level0_row1\" class=\"row_heading level0 row1\" >1</th>\n",
       "      <td id=\"T_5e6bb_row1_col0\" class=\"data row1 col0\" >Target</td>\n",
       "      <td id=\"T_5e6bb_row1_col1\" class=\"data row1 col1\" >mau</td>\n",
       "    </tr>\n",
       "    <tr>\n",
       "      <th id=\"T_5e6bb_level0_row2\" class=\"row_heading level0 row2\" >2</th>\n",
       "      <td id=\"T_5e6bb_row2_col0\" class=\"data row2 col0\" >Target type</td>\n",
       "      <td id=\"T_5e6bb_row2_col1\" class=\"data row2 col1\" >Binary</td>\n",
       "    </tr>\n",
       "    <tr>\n",
       "      <th id=\"T_5e6bb_level0_row3\" class=\"row_heading level0 row3\" >3</th>\n",
       "      <td id=\"T_5e6bb_row3_col0\" class=\"data row3 col0\" >Original data shape</td>\n",
       "      <td id=\"T_5e6bb_row3_col1\" class=\"data row3 col1\" >(47500, 13)</td>\n",
       "    </tr>\n",
       "    <tr>\n",
       "      <th id=\"T_5e6bb_level0_row4\" class=\"row_heading level0 row4\" >4</th>\n",
       "      <td id=\"T_5e6bb_row4_col0\" class=\"data row4 col0\" >Transformed data shape</td>\n",
       "      <td id=\"T_5e6bb_row4_col1\" class=\"data row4 col1\" >(47500, 30)</td>\n",
       "    </tr>\n",
       "    <tr>\n",
       "      <th id=\"T_5e6bb_level0_row5\" class=\"row_heading level0 row5\" >5</th>\n",
       "      <td id=\"T_5e6bb_row5_col0\" class=\"data row5 col0\" >Transformed train set shape</td>\n",
       "      <td id=\"T_5e6bb_row5_col1\" class=\"data row5 col1\" >(33250, 30)</td>\n",
       "    </tr>\n",
       "    <tr>\n",
       "      <th id=\"T_5e6bb_level0_row6\" class=\"row_heading level0 row6\" >6</th>\n",
       "      <td id=\"T_5e6bb_row6_col0\" class=\"data row6 col0\" >Transformed test set shape</td>\n",
       "      <td id=\"T_5e6bb_row6_col1\" class=\"data row6 col1\" >(14250, 30)</td>\n",
       "    </tr>\n",
       "    <tr>\n",
       "      <th id=\"T_5e6bb_level0_row7\" class=\"row_heading level0 row7\" >7</th>\n",
       "      <td id=\"T_5e6bb_row7_col0\" class=\"data row7 col0\" >Numeric features</td>\n",
       "      <td id=\"T_5e6bb_row7_col1\" class=\"data row7 col1\" >5</td>\n",
       "    </tr>\n",
       "    <tr>\n",
       "      <th id=\"T_5e6bb_level0_row8\" class=\"row_heading level0 row8\" >8</th>\n",
       "      <td id=\"T_5e6bb_row8_col0\" class=\"data row8 col0\" >Categorical features</td>\n",
       "      <td id=\"T_5e6bb_row8_col1\" class=\"data row8 col1\" >7</td>\n",
       "    </tr>\n",
       "    <tr>\n",
       "      <th id=\"T_5e6bb_level0_row9\" class=\"row_heading level0 row9\" >9</th>\n",
       "      <td id=\"T_5e6bb_row9_col0\" class=\"data row9 col0\" >Rows with missing values</td>\n",
       "      <td id=\"T_5e6bb_row9_col1\" class=\"data row9 col1\" >16.7%</td>\n",
       "    </tr>\n",
       "    <tr>\n",
       "      <th id=\"T_5e6bb_level0_row10\" class=\"row_heading level0 row10\" >10</th>\n",
       "      <td id=\"T_5e6bb_row10_col0\" class=\"data row10 col0\" >Preprocess</td>\n",
       "      <td id=\"T_5e6bb_row10_col1\" class=\"data row10 col1\" >True</td>\n",
       "    </tr>\n",
       "    <tr>\n",
       "      <th id=\"T_5e6bb_level0_row11\" class=\"row_heading level0 row11\" >11</th>\n",
       "      <td id=\"T_5e6bb_row11_col0\" class=\"data row11 col0\" >Imputation type</td>\n",
       "      <td id=\"T_5e6bb_row11_col1\" class=\"data row11 col1\" >simple</td>\n",
       "    </tr>\n",
       "    <tr>\n",
       "      <th id=\"T_5e6bb_level0_row12\" class=\"row_heading level0 row12\" >12</th>\n",
       "      <td id=\"T_5e6bb_row12_col0\" class=\"data row12 col0\" >Numeric imputation</td>\n",
       "      <td id=\"T_5e6bb_row12_col1\" class=\"data row12 col1\" >mean</td>\n",
       "    </tr>\n",
       "    <tr>\n",
       "      <th id=\"T_5e6bb_level0_row13\" class=\"row_heading level0 row13\" >13</th>\n",
       "      <td id=\"T_5e6bb_row13_col0\" class=\"data row13 col0\" >Categorical imputation</td>\n",
       "      <td id=\"T_5e6bb_row13_col1\" class=\"data row13 col1\" >mode</td>\n",
       "    </tr>\n",
       "    <tr>\n",
       "      <th id=\"T_5e6bb_level0_row14\" class=\"row_heading level0 row14\" >14</th>\n",
       "      <td id=\"T_5e6bb_row14_col0\" class=\"data row14 col0\" >Maximum one-hot encoding</td>\n",
       "      <td id=\"T_5e6bb_row14_col1\" class=\"data row14 col1\" >25</td>\n",
       "    </tr>\n",
       "    <tr>\n",
       "      <th id=\"T_5e6bb_level0_row15\" class=\"row_heading level0 row15\" >15</th>\n",
       "      <td id=\"T_5e6bb_row15_col0\" class=\"data row15 col0\" >Encoding method</td>\n",
       "      <td id=\"T_5e6bb_row15_col1\" class=\"data row15 col1\" >None</td>\n",
       "    </tr>\n",
       "    <tr>\n",
       "      <th id=\"T_5e6bb_level0_row16\" class=\"row_heading level0 row16\" >16</th>\n",
       "      <td id=\"T_5e6bb_row16_col0\" class=\"data row16 col0\" >Fold Generator</td>\n",
       "      <td id=\"T_5e6bb_row16_col1\" class=\"data row16 col1\" >StratifiedKFold</td>\n",
       "    </tr>\n",
       "    <tr>\n",
       "      <th id=\"T_5e6bb_level0_row17\" class=\"row_heading level0 row17\" >17</th>\n",
       "      <td id=\"T_5e6bb_row17_col0\" class=\"data row17 col0\" >Fold Number</td>\n",
       "      <td id=\"T_5e6bb_row17_col1\" class=\"data row17 col1\" >10</td>\n",
       "    </tr>\n",
       "    <tr>\n",
       "      <th id=\"T_5e6bb_level0_row18\" class=\"row_heading level0 row18\" >18</th>\n",
       "      <td id=\"T_5e6bb_row18_col0\" class=\"data row18 col0\" >CPU Jobs</td>\n",
       "      <td id=\"T_5e6bb_row18_col1\" class=\"data row18 col1\" >-1</td>\n",
       "    </tr>\n",
       "    <tr>\n",
       "      <th id=\"T_5e6bb_level0_row19\" class=\"row_heading level0 row19\" >19</th>\n",
       "      <td id=\"T_5e6bb_row19_col0\" class=\"data row19 col0\" >Use GPU</td>\n",
       "      <td id=\"T_5e6bb_row19_col1\" class=\"data row19 col1\" >False</td>\n",
       "    </tr>\n",
       "    <tr>\n",
       "      <th id=\"T_5e6bb_level0_row20\" class=\"row_heading level0 row20\" >20</th>\n",
       "      <td id=\"T_5e6bb_row20_col0\" class=\"data row20 col0\" >Log Experiment</td>\n",
       "      <td id=\"T_5e6bb_row20_col1\" class=\"data row20 col1\" >False</td>\n",
       "    </tr>\n",
       "    <tr>\n",
       "      <th id=\"T_5e6bb_level0_row21\" class=\"row_heading level0 row21\" >21</th>\n",
       "      <td id=\"T_5e6bb_row21_col0\" class=\"data row21 col0\" >Experiment Name</td>\n",
       "      <td id=\"T_5e6bb_row21_col1\" class=\"data row21 col1\" >clf-default-name</td>\n",
       "    </tr>\n",
       "    <tr>\n",
       "      <th id=\"T_5e6bb_level0_row22\" class=\"row_heading level0 row22\" >22</th>\n",
       "      <td id=\"T_5e6bb_row22_col0\" class=\"data row22 col0\" >USI</td>\n",
       "      <td id=\"T_5e6bb_row22_col1\" class=\"data row22 col1\" >b809</td>\n",
       "    </tr>\n",
       "  </tbody>\n",
       "</table>\n"
      ],
      "text/plain": [
       "<pandas.io.formats.style.Styler at 0x237d54a19d0>"
      ]
     },
     "metadata": {},
     "output_type": "display_data"
    }
   ],
   "source": [
    "exp_clf101 = setup(data = data, target = 'mau', session_id=123) "
   ]
  },
  {
   "cell_type": "markdown",
   "metadata": {
    "colab_type": "text",
    "id": "it_nJo1IEQob"
   },
   "source": [
    "# Comparando todos os modelos"
   ]
  },
  {
   "cell_type": "code",
   "execution_count": 14,
   "metadata": {
    "colab": {},
    "colab_type": "code",
    "id": "AsG0b1NIEQoj",
    "outputId": "a6e3a510-45a1-4782-8ffe-0ec138a64eed",
    "scrolled": false
   },
   "outputs": [
    {
     "data": {
      "text/html": [],
      "text/plain": [
       "<IPython.core.display.HTML object>"
      ]
     },
     "metadata": {},
     "output_type": "display_data"
    },
    {
     "data": {
      "text/html": [
       "<style type=\"text/css\">\n",
       "#T_83d03 th {\n",
       "  text-align: left;\n",
       "}\n",
       "#T_83d03_row0_col0, #T_83d03_row0_col2, #T_83d03_row0_col3, #T_83d03_row0_col5, #T_83d03_row0_col6, #T_83d03_row0_col7, #T_83d03_row1_col0, #T_83d03_row1_col1, #T_83d03_row1_col2, #T_83d03_row1_col3, #T_83d03_row1_col4, #T_83d03_row1_col5, #T_83d03_row1_col6, #T_83d03_row1_col7, #T_83d03_row2_col0, #T_83d03_row2_col1, #T_83d03_row2_col2, #T_83d03_row2_col3, #T_83d03_row2_col4, #T_83d03_row2_col5, #T_83d03_row2_col6, #T_83d03_row2_col7, #T_83d03_row3_col0, #T_83d03_row3_col1, #T_83d03_row3_col2, #T_83d03_row3_col3, #T_83d03_row3_col4, #T_83d03_row3_col5, #T_83d03_row3_col6, #T_83d03_row3_col7, #T_83d03_row4_col0, #T_83d03_row4_col1, #T_83d03_row4_col2, #T_83d03_row4_col3, #T_83d03_row4_col4, #T_83d03_row4_col5, #T_83d03_row4_col6, #T_83d03_row4_col7, #T_83d03_row5_col0, #T_83d03_row5_col1, #T_83d03_row5_col2, #T_83d03_row5_col3, #T_83d03_row5_col4, #T_83d03_row5_col5, #T_83d03_row5_col6, #T_83d03_row5_col7, #T_83d03_row6_col0, #T_83d03_row6_col1, #T_83d03_row6_col2, #T_83d03_row6_col3, #T_83d03_row6_col4, #T_83d03_row6_col5, #T_83d03_row6_col6, #T_83d03_row6_col7, #T_83d03_row7_col0, #T_83d03_row7_col1, #T_83d03_row7_col2, #T_83d03_row7_col3, #T_83d03_row7_col4, #T_83d03_row7_col5, #T_83d03_row7_col6, #T_83d03_row7_col7, #T_83d03_row8_col0, #T_83d03_row8_col1, #T_83d03_row8_col2, #T_83d03_row8_col3, #T_83d03_row8_col4, #T_83d03_row8_col5, #T_83d03_row8_col6, #T_83d03_row8_col7, #T_83d03_row9_col0, #T_83d03_row9_col1, #T_83d03_row9_col3, #T_83d03_row9_col4, #T_83d03_row9_col5, #T_83d03_row10_col0, #T_83d03_row10_col1, #T_83d03_row10_col2, #T_83d03_row10_col3, #T_83d03_row10_col4, #T_83d03_row10_col5, #T_83d03_row10_col6, #T_83d03_row10_col7, #T_83d03_row11_col0, #T_83d03_row11_col1, #T_83d03_row11_col2, #T_83d03_row11_col3, #T_83d03_row11_col4, #T_83d03_row11_col5, #T_83d03_row11_col6, #T_83d03_row11_col7, #T_83d03_row12_col0, #T_83d03_row12_col1, #T_83d03_row12_col2, #T_83d03_row12_col3, #T_83d03_row12_col4, #T_83d03_row12_col5, #T_83d03_row12_col6, #T_83d03_row12_col7, #T_83d03_row13_col0, #T_83d03_row13_col1, #T_83d03_row13_col2, #T_83d03_row13_col3, #T_83d03_row13_col4, #T_83d03_row13_col6, #T_83d03_row13_col7, #T_83d03_row14_col0, #T_83d03_row14_col1, #T_83d03_row14_col2, #T_83d03_row14_col4, #T_83d03_row14_col5, #T_83d03_row14_col6, #T_83d03_row14_col7 {\n",
       "  text-align: left;\n",
       "}\n",
       "#T_83d03_row0_col1, #T_83d03_row0_col4, #T_83d03_row9_col2, #T_83d03_row9_col6, #T_83d03_row9_col7, #T_83d03_row13_col5, #T_83d03_row14_col3 {\n",
       "  text-align: left;\n",
       "  background-color: yellow;\n",
       "}\n",
       "#T_83d03_row0_col8, #T_83d03_row1_col8, #T_83d03_row2_col8, #T_83d03_row3_col8, #T_83d03_row5_col8, #T_83d03_row6_col8, #T_83d03_row7_col8, #T_83d03_row8_col8, #T_83d03_row9_col8, #T_83d03_row10_col8, #T_83d03_row11_col8, #T_83d03_row12_col8, #T_83d03_row13_col8, #T_83d03_row14_col8 {\n",
       "  text-align: left;\n",
       "  background-color: lightgrey;\n",
       "}\n",
       "#T_83d03_row4_col8 {\n",
       "  text-align: left;\n",
       "  background-color: yellow;\n",
       "  background-color: lightgrey;\n",
       "}\n",
       "</style>\n",
       "<table id=\"T_83d03\">\n",
       "  <thead>\n",
       "    <tr>\n",
       "      <th class=\"blank level0\" >&nbsp;</th>\n",
       "      <th id=\"T_83d03_level0_col0\" class=\"col_heading level0 col0\" >Model</th>\n",
       "      <th id=\"T_83d03_level0_col1\" class=\"col_heading level0 col1\" >Accuracy</th>\n",
       "      <th id=\"T_83d03_level0_col2\" class=\"col_heading level0 col2\" >AUC</th>\n",
       "      <th id=\"T_83d03_level0_col3\" class=\"col_heading level0 col3\" >Recall</th>\n",
       "      <th id=\"T_83d03_level0_col4\" class=\"col_heading level0 col4\" >Prec.</th>\n",
       "      <th id=\"T_83d03_level0_col5\" class=\"col_heading level0 col5\" >F1</th>\n",
       "      <th id=\"T_83d03_level0_col6\" class=\"col_heading level0 col6\" >Kappa</th>\n",
       "      <th id=\"T_83d03_level0_col7\" class=\"col_heading level0 col7\" >MCC</th>\n",
       "      <th id=\"T_83d03_level0_col8\" class=\"col_heading level0 col8\" >TT (Sec)</th>\n",
       "    </tr>\n",
       "  </thead>\n",
       "  <tbody>\n",
       "    <tr>\n",
       "      <th id=\"T_83d03_level0_row0\" class=\"row_heading level0 row0\" >ada</th>\n",
       "      <td id=\"T_83d03_row0_col0\" class=\"data row0 col0\" >Ada Boost Classifier</td>\n",
       "      <td id=\"T_83d03_row0_col1\" class=\"data row0 col1\" >0.9221</td>\n",
       "      <td id=\"T_83d03_row0_col2\" class=\"data row0 col2\" >0.7679</td>\n",
       "      <td id=\"T_83d03_row0_col3\" class=\"data row0 col3\" >0.0223</td>\n",
       "      <td id=\"T_83d03_row0_col4\" class=\"data row0 col4\" >0.5749</td>\n",
       "      <td id=\"T_83d03_row0_col5\" class=\"data row0 col5\" >0.0426</td>\n",
       "      <td id=\"T_83d03_row0_col6\" class=\"data row0 col6\" >0.0370</td>\n",
       "      <td id=\"T_83d03_row0_col7\" class=\"data row0 col7\" >0.0994</td>\n",
       "      <td id=\"T_83d03_row0_col8\" class=\"data row0 col8\" >0.4800</td>\n",
       "    </tr>\n",
       "    <tr>\n",
       "      <th id=\"T_83d03_level0_row1\" class=\"row_heading level0 row1\" >lr</th>\n",
       "      <td id=\"T_83d03_row1_col0\" class=\"data row1 col0\" >Logistic Regression</td>\n",
       "      <td id=\"T_83d03_row1_col1\" class=\"data row1 col1\" >0.9217</td>\n",
       "      <td id=\"T_83d03_row1_col2\" class=\"data row1 col2\" >0.7669</td>\n",
       "      <td id=\"T_83d03_row1_col3\" class=\"data row1 col3\" >0.0000</td>\n",
       "      <td id=\"T_83d03_row1_col4\" class=\"data row1 col4\" >0.0000</td>\n",
       "      <td id=\"T_83d03_row1_col5\" class=\"data row1 col5\" >0.0000</td>\n",
       "      <td id=\"T_83d03_row1_col6\" class=\"data row1 col6\" >0.0000</td>\n",
       "      <td id=\"T_83d03_row1_col7\" class=\"data row1 col7\" >0.0000</td>\n",
       "      <td id=\"T_83d03_row1_col8\" class=\"data row1 col8\" >2.0810</td>\n",
       "    </tr>\n",
       "    <tr>\n",
       "      <th id=\"T_83d03_level0_row2\" class=\"row_heading level0 row2\" >ridge</th>\n",
       "      <td id=\"T_83d03_row2_col0\" class=\"data row2 col0\" >Ridge Classifier</td>\n",
       "      <td id=\"T_83d03_row2_col1\" class=\"data row2 col1\" >0.9217</td>\n",
       "      <td id=\"T_83d03_row2_col2\" class=\"data row2 col2\" >0.6381</td>\n",
       "      <td id=\"T_83d03_row2_col3\" class=\"data row2 col3\" >0.0000</td>\n",
       "      <td id=\"T_83d03_row2_col4\" class=\"data row2 col4\" >0.0000</td>\n",
       "      <td id=\"T_83d03_row2_col5\" class=\"data row2 col5\" >0.0000</td>\n",
       "      <td id=\"T_83d03_row2_col6\" class=\"data row2 col6\" >0.0000</td>\n",
       "      <td id=\"T_83d03_row2_col7\" class=\"data row2 col7\" >0.0000</td>\n",
       "      <td id=\"T_83d03_row2_col8\" class=\"data row2 col8\" >0.1090</td>\n",
       "    </tr>\n",
       "    <tr>\n",
       "      <th id=\"T_83d03_level0_row3\" class=\"row_heading level0 row3\" >lda</th>\n",
       "      <td id=\"T_83d03_row3_col0\" class=\"data row3 col0\" >Linear Discriminant Analysis</td>\n",
       "      <td id=\"T_83d03_row3_col1\" class=\"data row3 col1\" >0.9217</td>\n",
       "      <td id=\"T_83d03_row3_col2\" class=\"data row3 col2\" >0.6380</td>\n",
       "      <td id=\"T_83d03_row3_col3\" class=\"data row3 col3\" >0.0000</td>\n",
       "      <td id=\"T_83d03_row3_col4\" class=\"data row3 col4\" >0.0000</td>\n",
       "      <td id=\"T_83d03_row3_col5\" class=\"data row3 col5\" >0.0000</td>\n",
       "      <td id=\"T_83d03_row3_col6\" class=\"data row3 col6\" >0.0000</td>\n",
       "      <td id=\"T_83d03_row3_col7\" class=\"data row3 col7\" >0.0000</td>\n",
       "      <td id=\"T_83d03_row3_col8\" class=\"data row3 col8\" >0.1710</td>\n",
       "    </tr>\n",
       "    <tr>\n",
       "      <th id=\"T_83d03_level0_row4\" class=\"row_heading level0 row4\" >dummy</th>\n",
       "      <td id=\"T_83d03_row4_col0\" class=\"data row4 col0\" >Dummy Classifier</td>\n",
       "      <td id=\"T_83d03_row4_col1\" class=\"data row4 col1\" >0.9217</td>\n",
       "      <td id=\"T_83d03_row4_col2\" class=\"data row4 col2\" >0.5000</td>\n",
       "      <td id=\"T_83d03_row4_col3\" class=\"data row4 col3\" >0.0000</td>\n",
       "      <td id=\"T_83d03_row4_col4\" class=\"data row4 col4\" >0.0000</td>\n",
       "      <td id=\"T_83d03_row4_col5\" class=\"data row4 col5\" >0.0000</td>\n",
       "      <td id=\"T_83d03_row4_col6\" class=\"data row4 col6\" >0.0000</td>\n",
       "      <td id=\"T_83d03_row4_col7\" class=\"data row4 col7\" >0.0000</td>\n",
       "      <td id=\"T_83d03_row4_col8\" class=\"data row4 col8\" >0.0970</td>\n",
       "    </tr>\n",
       "    <tr>\n",
       "      <th id=\"T_83d03_level0_row5\" class=\"row_heading level0 row5\" >gbc</th>\n",
       "      <td id=\"T_83d03_row5_col0\" class=\"data row5 col0\" >Gradient Boosting Classifier</td>\n",
       "      <td id=\"T_83d03_row5_col1\" class=\"data row5 col1\" >0.9216</td>\n",
       "      <td id=\"T_83d03_row5_col2\" class=\"data row5 col2\" >0.7716</td>\n",
       "      <td id=\"T_83d03_row5_col3\" class=\"data row5 col3\" >0.0192</td>\n",
       "      <td id=\"T_83d03_row5_col4\" class=\"data row5 col4\" >0.4750</td>\n",
       "      <td id=\"T_83d03_row5_col5\" class=\"data row5 col5\" >0.0369</td>\n",
       "      <td id=\"T_83d03_row5_col6\" class=\"data row5 col6\" >0.0310</td>\n",
       "      <td id=\"T_83d03_row5_col7\" class=\"data row5 col7\" >0.0826</td>\n",
       "      <td id=\"T_83d03_row5_col8\" class=\"data row5 col8\" >0.8870</td>\n",
       "    </tr>\n",
       "    <tr>\n",
       "      <th id=\"T_83d03_level0_row6\" class=\"row_heading level0 row6\" >lightgbm</th>\n",
       "      <td id=\"T_83d03_row6_col0\" class=\"data row6 col0\" >Light Gradient Boosting Machine</td>\n",
       "      <td id=\"T_83d03_row6_col1\" class=\"data row6 col1\" >0.9214</td>\n",
       "      <td id=\"T_83d03_row6_col2\" class=\"data row6 col2\" >0.7581</td>\n",
       "      <td id=\"T_83d03_row6_col3\" class=\"data row6 col3\" >0.0184</td>\n",
       "      <td id=\"T_83d03_row6_col4\" class=\"data row6 col4\" >0.4337</td>\n",
       "      <td id=\"T_83d03_row6_col5\" class=\"data row6 col5\" >0.0352</td>\n",
       "      <td id=\"T_83d03_row6_col6\" class=\"data row6 col6\" >0.0293</td>\n",
       "      <td id=\"T_83d03_row6_col7\" class=\"data row6 col7\" >0.0756</td>\n",
       "      <td id=\"T_83d03_row6_col8\" class=\"data row6 col8\" >0.3130</td>\n",
       "    </tr>\n",
       "    <tr>\n",
       "      <th id=\"T_83d03_level0_row7\" class=\"row_heading level0 row7\" >catboost</th>\n",
       "      <td id=\"T_83d03_row7_col0\" class=\"data row7 col0\" >CatBoost Classifier</td>\n",
       "      <td id=\"T_83d03_row7_col1\" class=\"data row7 col1\" >0.9198</td>\n",
       "      <td id=\"T_83d03_row7_col2\" class=\"data row7 col2\" >0.7539</td>\n",
       "      <td id=\"T_83d03_row7_col3\" class=\"data row7 col3\" >0.0357</td>\n",
       "      <td id=\"T_83d03_row7_col4\" class=\"data row7 col4\" >0.3763</td>\n",
       "      <td id=\"T_83d03_row7_col5\" class=\"data row7 col5\" >0.0651</td>\n",
       "      <td id=\"T_83d03_row7_col6\" class=\"data row7 col6\" >0.0522</td>\n",
       "      <td id=\"T_83d03_row7_col7\" class=\"data row7 col7\" >0.0955</td>\n",
       "      <td id=\"T_83d03_row7_col8\" class=\"data row7 col8\" >7.5880</td>\n",
       "    </tr>\n",
       "    <tr>\n",
       "      <th id=\"T_83d03_level0_row8\" class=\"row_heading level0 row8\" >knn</th>\n",
       "      <td id=\"T_83d03_row8_col0\" class=\"data row8 col0\" >K Neighbors Classifier</td>\n",
       "      <td id=\"T_83d03_row8_col1\" class=\"data row8 col1\" >0.9140</td>\n",
       "      <td id=\"T_83d03_row8_col2\" class=\"data row8 col2\" >0.6388</td>\n",
       "      <td id=\"T_83d03_row8_col3\" class=\"data row8 col3\" >0.0642</td>\n",
       "      <td id=\"T_83d03_row8_col4\" class=\"data row8 col4\" >0.2846</td>\n",
       "      <td id=\"T_83d03_row8_col5\" class=\"data row8 col5\" >0.1045</td>\n",
       "      <td id=\"T_83d03_row8_col6\" class=\"data row8 col6\" >0.0780</td>\n",
       "      <td id=\"T_83d03_row8_col7\" class=\"data row8 col7\" >0.1027</td>\n",
       "      <td id=\"T_83d03_row8_col8\" class=\"data row8 col8\" >1.0710</td>\n",
       "    </tr>\n",
       "    <tr>\n",
       "      <th id=\"T_83d03_level0_row9\" class=\"row_heading level0 row9\" >svm</th>\n",
       "      <td id=\"T_83d03_row9_col0\" class=\"data row9 col0\" >SVM - Linear Kernel</td>\n",
       "      <td id=\"T_83d03_row9_col1\" class=\"data row9 col1\" >0.9011</td>\n",
       "      <td id=\"T_83d03_row9_col2\" class=\"data row9 col2\" >0.7737</td>\n",
       "      <td id=\"T_83d03_row9_col3\" class=\"data row9 col3\" >0.1939</td>\n",
       "      <td id=\"T_83d03_row9_col4\" class=\"data row9 col4\" >0.2391</td>\n",
       "      <td id=\"T_83d03_row9_col5\" class=\"data row9 col5\" >0.2107</td>\n",
       "      <td id=\"T_83d03_row9_col6\" class=\"data row9 col6\" >0.1672</td>\n",
       "      <td id=\"T_83d03_row9_col7\" class=\"data row9 col7\" >0.1697</td>\n",
       "      <td id=\"T_83d03_row9_col8\" class=\"data row9 col8\" >0.1480</td>\n",
       "    </tr>\n",
       "    <tr>\n",
       "      <th id=\"T_83d03_level0_row10\" class=\"row_heading level0 row10\" >rf</th>\n",
       "      <td id=\"T_83d03_row10_col0\" class=\"data row10 col0\" >Random Forest Classifier</td>\n",
       "      <td id=\"T_83d03_row10_col1\" class=\"data row10 col1\" >0.9002</td>\n",
       "      <td id=\"T_83d03_row10_col2\" class=\"data row10 col2\" >0.7037</td>\n",
       "      <td id=\"T_83d03_row10_col3\" class=\"data row10 col3\" >0.0880</td>\n",
       "      <td id=\"T_83d03_row10_col4\" class=\"data row10 col4\" >0.1950</td>\n",
       "      <td id=\"T_83d03_row10_col5\" class=\"data row10 col5\" >0.1210</td>\n",
       "      <td id=\"T_83d03_row10_col6\" class=\"data row10 col6\" >0.0762</td>\n",
       "      <td id=\"T_83d03_row10_col7\" class=\"data row10 col7\" >0.0831</td>\n",
       "      <td id=\"T_83d03_row10_col8\" class=\"data row10 col8\" >0.7560</td>\n",
       "    </tr>\n",
       "    <tr>\n",
       "      <th id=\"T_83d03_level0_row11\" class=\"row_heading level0 row11\" >et</th>\n",
       "      <td id=\"T_83d03_row11_col0\" class=\"data row11 col0\" >Extra Trees Classifier</td>\n",
       "      <td id=\"T_83d03_row11_col1\" class=\"data row11 col1\" >0.8791</td>\n",
       "      <td id=\"T_83d03_row11_col2\" class=\"data row11 col2\" >0.6216</td>\n",
       "      <td id=\"T_83d03_row11_col3\" class=\"data row11 col3\" >0.1425</td>\n",
       "      <td id=\"T_83d03_row11_col4\" class=\"data row11 col4\" >0.1717</td>\n",
       "      <td id=\"T_83d03_row11_col5\" class=\"data row11 col5\" >0.1557</td>\n",
       "      <td id=\"T_83d03_row11_col6\" class=\"data row11 col6\" >0.0912</td>\n",
       "      <td id=\"T_83d03_row11_col7\" class=\"data row11 col7\" >0.0917</td>\n",
       "      <td id=\"T_83d03_row11_col8\" class=\"data row11 col8\" >0.9020</td>\n",
       "    </tr>\n",
       "    <tr>\n",
       "      <th id=\"T_83d03_level0_row12\" class=\"row_heading level0 row12\" >dt</th>\n",
       "      <td id=\"T_83d03_row12_col0\" class=\"data row12 col0\" >Decision Tree Classifier</td>\n",
       "      <td id=\"T_83d03_row12_col1\" class=\"data row12 col1\" >0.8685</td>\n",
       "      <td id=\"T_83d03_row12_col2\" class=\"data row12 col2\" >0.5554</td>\n",
       "      <td id=\"T_83d03_row12_col3\" class=\"data row12 col3\" >0.1806</td>\n",
       "      <td id=\"T_83d03_row12_col4\" class=\"data row12 col4\" >0.1732</td>\n",
       "      <td id=\"T_83d03_row12_col5\" class=\"data row12 col5\" >0.1767</td>\n",
       "      <td id=\"T_83d03_row12_col6\" class=\"data row12 col6\" >0.1054</td>\n",
       "      <td id=\"T_83d03_row12_col7\" class=\"data row12 col7\" >0.1054</td>\n",
       "      <td id=\"T_83d03_row12_col8\" class=\"data row12 col8\" >0.1860</td>\n",
       "    </tr>\n",
       "    <tr>\n",
       "      <th id=\"T_83d03_level0_row13\" class=\"row_heading level0 row13\" >nb</th>\n",
       "      <td id=\"T_83d03_row13_col0\" class=\"data row13 col0\" >Naive Bayes</td>\n",
       "      <td id=\"T_83d03_row13_col1\" class=\"data row13 col1\" >0.6370</td>\n",
       "      <td id=\"T_83d03_row13_col2\" class=\"data row13 col2\" >0.6815</td>\n",
       "      <td id=\"T_83d03_row13_col3\" class=\"data row13 col3\" >0.6308</td>\n",
       "      <td id=\"T_83d03_row13_col4\" class=\"data row13 col4\" >0.1289</td>\n",
       "      <td id=\"T_83d03_row13_col5\" class=\"data row13 col5\" >0.2140</td>\n",
       "      <td id=\"T_83d03_row13_col6\" class=\"data row13 col6\" >0.0965</td>\n",
       "      <td id=\"T_83d03_row13_col7\" class=\"data row13 col7\" >0.1483</td>\n",
       "      <td id=\"T_83d03_row13_col8\" class=\"data row13 col8\" >0.1310</td>\n",
       "    </tr>\n",
       "    <tr>\n",
       "      <th id=\"T_83d03_level0_row14\" class=\"row_heading level0 row14\" >qda</th>\n",
       "      <td id=\"T_83d03_row14_col0\" class=\"data row14 col0\" >Quadratic Discriminant Analysis</td>\n",
       "      <td id=\"T_83d03_row14_col1\" class=\"data row14 col1\" >0.1848</td>\n",
       "      <td id=\"T_83d03_row14_col2\" class=\"data row14 col2\" >0.6654</td>\n",
       "      <td id=\"T_83d03_row14_col3\" class=\"data row14 col3\" >0.9839</td>\n",
       "      <td id=\"T_83d03_row14_col4\" class=\"data row14 col4\" >0.0865</td>\n",
       "      <td id=\"T_83d03_row14_col5\" class=\"data row14 col5\" >0.1590</td>\n",
       "      <td id=\"T_83d03_row14_col6\" class=\"data row14 col6\" >0.0177</td>\n",
       "      <td id=\"T_83d03_row14_col7\" class=\"data row14 col7\" >0.0862</td>\n",
       "      <td id=\"T_83d03_row14_col8\" class=\"data row14 col8\" >0.1790</td>\n",
       "    </tr>\n",
       "  </tbody>\n",
       "</table>\n"
      ],
      "text/plain": [
       "<pandas.io.formats.style.Styler at 0x237d50e2690>"
      ]
     },
     "metadata": {},
     "output_type": "display_data"
    },
    {
     "data": {
      "text/html": [],
      "text/plain": [
       "<IPython.core.display.HTML object>"
      ]
     },
     "metadata": {},
     "output_type": "display_data"
    }
   ],
   "source": [
    "best_model = compare_models(fold=10)"
   ]
  },
  {
   "cell_type": "code",
   "execution_count": 15,
   "metadata": {},
   "outputs": [
    {
     "data": {
      "text/html": [],
      "text/plain": [
       "<IPython.core.display.HTML object>"
      ]
     },
     "metadata": {},
     "output_type": "display_data"
    },
    {
     "data": {
      "text/html": [
       "<style type=\"text/css\">\n",
       "#T_0af38 th {\n",
       "  text-align: left;\n",
       "}\n",
       "#T_0af38_row0_col0, #T_0af38_row0_col1, #T_0af38_row0_col3, #T_0af38_row0_col4, #T_0af38_row0_col5, #T_0af38_row1_col0, #T_0af38_row1_col1, #T_0af38_row1_col2, #T_0af38_row1_col3, #T_0af38_row1_col4, #T_0af38_row1_col5, #T_0af38_row1_col6, #T_0af38_row1_col7, #T_0af38_row2_col0, #T_0af38_row2_col2, #T_0af38_row2_col3, #T_0af38_row2_col5, #T_0af38_row2_col6, #T_0af38_row2_col7, #T_0af38_row3_col0, #T_0af38_row3_col1, #T_0af38_row3_col2, #T_0af38_row3_col3, #T_0af38_row3_col4, #T_0af38_row3_col5, #T_0af38_row3_col6, #T_0af38_row3_col7, #T_0af38_row4_col0, #T_0af38_row4_col1, #T_0af38_row4_col2, #T_0af38_row4_col3, #T_0af38_row4_col4, #T_0af38_row4_col5, #T_0af38_row4_col6, #T_0af38_row4_col7, #T_0af38_row5_col0, #T_0af38_row5_col1, #T_0af38_row5_col2, #T_0af38_row5_col3, #T_0af38_row5_col4, #T_0af38_row5_col5, #T_0af38_row5_col6, #T_0af38_row5_col7, #T_0af38_row6_col0, #T_0af38_row6_col1, #T_0af38_row6_col2, #T_0af38_row6_col3, #T_0af38_row6_col4, #T_0af38_row6_col5, #T_0af38_row6_col6, #T_0af38_row6_col7, #T_0af38_row7_col0, #T_0af38_row7_col1, #T_0af38_row7_col2, #T_0af38_row7_col3, #T_0af38_row7_col4, #T_0af38_row7_col6, #T_0af38_row7_col7, #T_0af38_row8_col0, #T_0af38_row8_col1, #T_0af38_row8_col2, #T_0af38_row8_col4, #T_0af38_row8_col5, #T_0af38_row8_col6, #T_0af38_row8_col7, #T_0af38_row9_col0, #T_0af38_row9_col1, #T_0af38_row9_col2, #T_0af38_row9_col3, #T_0af38_row9_col4, #T_0af38_row9_col5, #T_0af38_row9_col6, #T_0af38_row9_col7, #T_0af38_row10_col0, #T_0af38_row10_col1, #T_0af38_row10_col2, #T_0af38_row10_col3, #T_0af38_row10_col4, #T_0af38_row10_col5, #T_0af38_row10_col6, #T_0af38_row10_col7, #T_0af38_row11_col0, #T_0af38_row11_col1, #T_0af38_row11_col2, #T_0af38_row11_col3, #T_0af38_row11_col4, #T_0af38_row11_col5, #T_0af38_row11_col6, #T_0af38_row11_col7, #T_0af38_row12_col0, #T_0af38_row12_col1, #T_0af38_row12_col2, #T_0af38_row12_col3, #T_0af38_row12_col4, #T_0af38_row12_col5, #T_0af38_row12_col6, #T_0af38_row12_col7, #T_0af38_row13_col0, #T_0af38_row13_col1, #T_0af38_row13_col2, #T_0af38_row13_col3, #T_0af38_row13_col4, #T_0af38_row13_col5, #T_0af38_row13_col6, #T_0af38_row13_col7, #T_0af38_row14_col0, #T_0af38_row14_col1, #T_0af38_row14_col2, #T_0af38_row14_col3, #T_0af38_row14_col4, #T_0af38_row14_col5, #T_0af38_row14_col6, #T_0af38_row14_col7 {\n",
       "  text-align: left;\n",
       "}\n",
       "#T_0af38_row0_col2, #T_0af38_row0_col6, #T_0af38_row0_col7, #T_0af38_row2_col1, #T_0af38_row2_col4, #T_0af38_row7_col5, #T_0af38_row8_col3 {\n",
       "  text-align: left;\n",
       "  background-color: yellow;\n",
       "}\n",
       "#T_0af38_row0_col8, #T_0af38_row1_col8, #T_0af38_row2_col8, #T_0af38_row3_col8, #T_0af38_row4_col8, #T_0af38_row5_col8, #T_0af38_row6_col8, #T_0af38_row7_col8, #T_0af38_row8_col8, #T_0af38_row9_col8, #T_0af38_row10_col8, #T_0af38_row11_col8, #T_0af38_row12_col8, #T_0af38_row13_col8 {\n",
       "  text-align: left;\n",
       "  background-color: lightgrey;\n",
       "}\n",
       "#T_0af38_row14_col8 {\n",
       "  text-align: left;\n",
       "  background-color: yellow;\n",
       "  background-color: lightgrey;\n",
       "}\n",
       "</style>\n",
       "<table id=\"T_0af38\">\n",
       "  <thead>\n",
       "    <tr>\n",
       "      <th class=\"blank level0\" >&nbsp;</th>\n",
       "      <th id=\"T_0af38_level0_col0\" class=\"col_heading level0 col0\" >Model</th>\n",
       "      <th id=\"T_0af38_level0_col1\" class=\"col_heading level0 col1\" >Accuracy</th>\n",
       "      <th id=\"T_0af38_level0_col2\" class=\"col_heading level0 col2\" >AUC</th>\n",
       "      <th id=\"T_0af38_level0_col3\" class=\"col_heading level0 col3\" >Recall</th>\n",
       "      <th id=\"T_0af38_level0_col4\" class=\"col_heading level0 col4\" >Prec.</th>\n",
       "      <th id=\"T_0af38_level0_col5\" class=\"col_heading level0 col5\" >F1</th>\n",
       "      <th id=\"T_0af38_level0_col6\" class=\"col_heading level0 col6\" >Kappa</th>\n",
       "      <th id=\"T_0af38_level0_col7\" class=\"col_heading level0 col7\" >MCC</th>\n",
       "      <th id=\"T_0af38_level0_col8\" class=\"col_heading level0 col8\" >TT (Sec)</th>\n",
       "    </tr>\n",
       "  </thead>\n",
       "  <tbody>\n",
       "    <tr>\n",
       "      <th id=\"T_0af38_level0_row0\" class=\"row_heading level0 row0\" >svm</th>\n",
       "      <td id=\"T_0af38_row0_col0\" class=\"data row0 col0\" >SVM - Linear Kernel</td>\n",
       "      <td id=\"T_0af38_row0_col1\" class=\"data row0 col1\" >0.9011</td>\n",
       "      <td id=\"T_0af38_row0_col2\" class=\"data row0 col2\" >0.7737</td>\n",
       "      <td id=\"T_0af38_row0_col3\" class=\"data row0 col3\" >0.1939</td>\n",
       "      <td id=\"T_0af38_row0_col4\" class=\"data row0 col4\" >0.2391</td>\n",
       "      <td id=\"T_0af38_row0_col5\" class=\"data row0 col5\" >0.2107</td>\n",
       "      <td id=\"T_0af38_row0_col6\" class=\"data row0 col6\" >0.1672</td>\n",
       "      <td id=\"T_0af38_row0_col7\" class=\"data row0 col7\" >0.1697</td>\n",
       "      <td id=\"T_0af38_row0_col8\" class=\"data row0 col8\" >0.1200</td>\n",
       "    </tr>\n",
       "    <tr>\n",
       "      <th id=\"T_0af38_level0_row1\" class=\"row_heading level0 row1\" >gbc</th>\n",
       "      <td id=\"T_0af38_row1_col0\" class=\"data row1 col0\" >Gradient Boosting Classifier</td>\n",
       "      <td id=\"T_0af38_row1_col1\" class=\"data row1 col1\" >0.9216</td>\n",
       "      <td id=\"T_0af38_row1_col2\" class=\"data row1 col2\" >0.7716</td>\n",
       "      <td id=\"T_0af38_row1_col3\" class=\"data row1 col3\" >0.0192</td>\n",
       "      <td id=\"T_0af38_row1_col4\" class=\"data row1 col4\" >0.4750</td>\n",
       "      <td id=\"T_0af38_row1_col5\" class=\"data row1 col5\" >0.0369</td>\n",
       "      <td id=\"T_0af38_row1_col6\" class=\"data row1 col6\" >0.0310</td>\n",
       "      <td id=\"T_0af38_row1_col7\" class=\"data row1 col7\" >0.0826</td>\n",
       "      <td id=\"T_0af38_row1_col8\" class=\"data row1 col8\" >0.8140</td>\n",
       "    </tr>\n",
       "    <tr>\n",
       "      <th id=\"T_0af38_level0_row2\" class=\"row_heading level0 row2\" >ada</th>\n",
       "      <td id=\"T_0af38_row2_col0\" class=\"data row2 col0\" >Ada Boost Classifier</td>\n",
       "      <td id=\"T_0af38_row2_col1\" class=\"data row2 col1\" >0.9221</td>\n",
       "      <td id=\"T_0af38_row2_col2\" class=\"data row2 col2\" >0.7679</td>\n",
       "      <td id=\"T_0af38_row2_col3\" class=\"data row2 col3\" >0.0223</td>\n",
       "      <td id=\"T_0af38_row2_col4\" class=\"data row2 col4\" >0.5749</td>\n",
       "      <td id=\"T_0af38_row2_col5\" class=\"data row2 col5\" >0.0426</td>\n",
       "      <td id=\"T_0af38_row2_col6\" class=\"data row2 col6\" >0.0370</td>\n",
       "      <td id=\"T_0af38_row2_col7\" class=\"data row2 col7\" >0.0994</td>\n",
       "      <td id=\"T_0af38_row2_col8\" class=\"data row2 col8\" >0.3660</td>\n",
       "    </tr>\n",
       "    <tr>\n",
       "      <th id=\"T_0af38_level0_row3\" class=\"row_heading level0 row3\" >lr</th>\n",
       "      <td id=\"T_0af38_row3_col0\" class=\"data row3 col0\" >Logistic Regression</td>\n",
       "      <td id=\"T_0af38_row3_col1\" class=\"data row3 col1\" >0.9217</td>\n",
       "      <td id=\"T_0af38_row3_col2\" class=\"data row3 col2\" >0.7669</td>\n",
       "      <td id=\"T_0af38_row3_col3\" class=\"data row3 col3\" >0.0000</td>\n",
       "      <td id=\"T_0af38_row3_col4\" class=\"data row3 col4\" >0.0000</td>\n",
       "      <td id=\"T_0af38_row3_col5\" class=\"data row3 col5\" >0.0000</td>\n",
       "      <td id=\"T_0af38_row3_col6\" class=\"data row3 col6\" >0.0000</td>\n",
       "      <td id=\"T_0af38_row3_col7\" class=\"data row3 col7\" >0.0000</td>\n",
       "      <td id=\"T_0af38_row3_col8\" class=\"data row3 col8\" >0.9750</td>\n",
       "    </tr>\n",
       "    <tr>\n",
       "      <th id=\"T_0af38_level0_row4\" class=\"row_heading level0 row4\" >lightgbm</th>\n",
       "      <td id=\"T_0af38_row4_col0\" class=\"data row4 col0\" >Light Gradient Boosting Machine</td>\n",
       "      <td id=\"T_0af38_row4_col1\" class=\"data row4 col1\" >0.9214</td>\n",
       "      <td id=\"T_0af38_row4_col2\" class=\"data row4 col2\" >0.7581</td>\n",
       "      <td id=\"T_0af38_row4_col3\" class=\"data row4 col3\" >0.0184</td>\n",
       "      <td id=\"T_0af38_row4_col4\" class=\"data row4 col4\" >0.4337</td>\n",
       "      <td id=\"T_0af38_row4_col5\" class=\"data row4 col5\" >0.0352</td>\n",
       "      <td id=\"T_0af38_row4_col6\" class=\"data row4 col6\" >0.0293</td>\n",
       "      <td id=\"T_0af38_row4_col7\" class=\"data row4 col7\" >0.0756</td>\n",
       "      <td id=\"T_0af38_row4_col8\" class=\"data row4 col8\" >0.2490</td>\n",
       "    </tr>\n",
       "    <tr>\n",
       "      <th id=\"T_0af38_level0_row5\" class=\"row_heading level0 row5\" >catboost</th>\n",
       "      <td id=\"T_0af38_row5_col0\" class=\"data row5 col0\" >CatBoost Classifier</td>\n",
       "      <td id=\"T_0af38_row5_col1\" class=\"data row5 col1\" >0.9198</td>\n",
       "      <td id=\"T_0af38_row5_col2\" class=\"data row5 col2\" >0.7539</td>\n",
       "      <td id=\"T_0af38_row5_col3\" class=\"data row5 col3\" >0.0357</td>\n",
       "      <td id=\"T_0af38_row5_col4\" class=\"data row5 col4\" >0.3763</td>\n",
       "      <td id=\"T_0af38_row5_col5\" class=\"data row5 col5\" >0.0651</td>\n",
       "      <td id=\"T_0af38_row5_col6\" class=\"data row5 col6\" >0.0522</td>\n",
       "      <td id=\"T_0af38_row5_col7\" class=\"data row5 col7\" >0.0955</td>\n",
       "      <td id=\"T_0af38_row5_col8\" class=\"data row5 col8\" >7.1440</td>\n",
       "    </tr>\n",
       "    <tr>\n",
       "      <th id=\"T_0af38_level0_row6\" class=\"row_heading level0 row6\" >rf</th>\n",
       "      <td id=\"T_0af38_row6_col0\" class=\"data row6 col0\" >Random Forest Classifier</td>\n",
       "      <td id=\"T_0af38_row6_col1\" class=\"data row6 col1\" >0.9002</td>\n",
       "      <td id=\"T_0af38_row6_col2\" class=\"data row6 col2\" >0.7037</td>\n",
       "      <td id=\"T_0af38_row6_col3\" class=\"data row6 col3\" >0.0880</td>\n",
       "      <td id=\"T_0af38_row6_col4\" class=\"data row6 col4\" >0.1952</td>\n",
       "      <td id=\"T_0af38_row6_col5\" class=\"data row6 col5\" >0.1211</td>\n",
       "      <td id=\"T_0af38_row6_col6\" class=\"data row6 col6\" >0.0763</td>\n",
       "      <td id=\"T_0af38_row6_col7\" class=\"data row6 col7\" >0.0832</td>\n",
       "      <td id=\"T_0af38_row6_col8\" class=\"data row6 col8\" >0.6570</td>\n",
       "    </tr>\n",
       "    <tr>\n",
       "      <th id=\"T_0af38_level0_row7\" class=\"row_heading level0 row7\" >nb</th>\n",
       "      <td id=\"T_0af38_row7_col0\" class=\"data row7 col0\" >Naive Bayes</td>\n",
       "      <td id=\"T_0af38_row7_col1\" class=\"data row7 col1\" >0.6370</td>\n",
       "      <td id=\"T_0af38_row7_col2\" class=\"data row7 col2\" >0.6815</td>\n",
       "      <td id=\"T_0af38_row7_col3\" class=\"data row7 col3\" >0.6308</td>\n",
       "      <td id=\"T_0af38_row7_col4\" class=\"data row7 col4\" >0.1289</td>\n",
       "      <td id=\"T_0af38_row7_col5\" class=\"data row7 col5\" >0.2140</td>\n",
       "      <td id=\"T_0af38_row7_col6\" class=\"data row7 col6\" >0.0965</td>\n",
       "      <td id=\"T_0af38_row7_col7\" class=\"data row7 col7\" >0.1483</td>\n",
       "      <td id=\"T_0af38_row7_col8\" class=\"data row7 col8\" >0.1030</td>\n",
       "    </tr>\n",
       "    <tr>\n",
       "      <th id=\"T_0af38_level0_row8\" class=\"row_heading level0 row8\" >qda</th>\n",
       "      <td id=\"T_0af38_row8_col0\" class=\"data row8 col0\" >Quadratic Discriminant Analysis</td>\n",
       "      <td id=\"T_0af38_row8_col1\" class=\"data row8 col1\" >0.1848</td>\n",
       "      <td id=\"T_0af38_row8_col2\" class=\"data row8 col2\" >0.6654</td>\n",
       "      <td id=\"T_0af38_row8_col3\" class=\"data row8 col3\" >0.9839</td>\n",
       "      <td id=\"T_0af38_row8_col4\" class=\"data row8 col4\" >0.0865</td>\n",
       "      <td id=\"T_0af38_row8_col5\" class=\"data row8 col5\" >0.1590</td>\n",
       "      <td id=\"T_0af38_row8_col6\" class=\"data row8 col6\" >0.0177</td>\n",
       "      <td id=\"T_0af38_row8_col7\" class=\"data row8 col7\" >0.0862</td>\n",
       "      <td id=\"T_0af38_row8_col8\" class=\"data row8 col8\" >0.1450</td>\n",
       "    </tr>\n",
       "    <tr>\n",
       "      <th id=\"T_0af38_level0_row9\" class=\"row_heading level0 row9\" >knn</th>\n",
       "      <td id=\"T_0af38_row9_col0\" class=\"data row9 col0\" >K Neighbors Classifier</td>\n",
       "      <td id=\"T_0af38_row9_col1\" class=\"data row9 col1\" >0.9140</td>\n",
       "      <td id=\"T_0af38_row9_col2\" class=\"data row9 col2\" >0.6388</td>\n",
       "      <td id=\"T_0af38_row9_col3\" class=\"data row9 col3\" >0.0642</td>\n",
       "      <td id=\"T_0af38_row9_col4\" class=\"data row9 col4\" >0.2846</td>\n",
       "      <td id=\"T_0af38_row9_col5\" class=\"data row9 col5\" >0.1045</td>\n",
       "      <td id=\"T_0af38_row9_col6\" class=\"data row9 col6\" >0.0780</td>\n",
       "      <td id=\"T_0af38_row9_col7\" class=\"data row9 col7\" >0.1027</td>\n",
       "      <td id=\"T_0af38_row9_col8\" class=\"data row9 col8\" >0.3210</td>\n",
       "    </tr>\n",
       "    <tr>\n",
       "      <th id=\"T_0af38_level0_row10\" class=\"row_heading level0 row10\" >ridge</th>\n",
       "      <td id=\"T_0af38_row10_col0\" class=\"data row10 col0\" >Ridge Classifier</td>\n",
       "      <td id=\"T_0af38_row10_col1\" class=\"data row10 col1\" >0.9217</td>\n",
       "      <td id=\"T_0af38_row10_col2\" class=\"data row10 col2\" >0.6381</td>\n",
       "      <td id=\"T_0af38_row10_col3\" class=\"data row10 col3\" >0.0000</td>\n",
       "      <td id=\"T_0af38_row10_col4\" class=\"data row10 col4\" >0.0000</td>\n",
       "      <td id=\"T_0af38_row10_col5\" class=\"data row10 col5\" >0.0000</td>\n",
       "      <td id=\"T_0af38_row10_col6\" class=\"data row10 col6\" >0.0000</td>\n",
       "      <td id=\"T_0af38_row10_col7\" class=\"data row10 col7\" >0.0000</td>\n",
       "      <td id=\"T_0af38_row10_col8\" class=\"data row10 col8\" >0.1010</td>\n",
       "    </tr>\n",
       "    <tr>\n",
       "      <th id=\"T_0af38_level0_row11\" class=\"row_heading level0 row11\" >lda</th>\n",
       "      <td id=\"T_0af38_row11_col0\" class=\"data row11 col0\" >Linear Discriminant Analysis</td>\n",
       "      <td id=\"T_0af38_row11_col1\" class=\"data row11 col1\" >0.9217</td>\n",
       "      <td id=\"T_0af38_row11_col2\" class=\"data row11 col2\" >0.6380</td>\n",
       "      <td id=\"T_0af38_row11_col3\" class=\"data row11 col3\" >0.0000</td>\n",
       "      <td id=\"T_0af38_row11_col4\" class=\"data row11 col4\" >0.0000</td>\n",
       "      <td id=\"T_0af38_row11_col5\" class=\"data row11 col5\" >0.0000</td>\n",
       "      <td id=\"T_0af38_row11_col6\" class=\"data row11 col6\" >0.0000</td>\n",
       "      <td id=\"T_0af38_row11_col7\" class=\"data row11 col7\" >0.0000</td>\n",
       "      <td id=\"T_0af38_row11_col8\" class=\"data row11 col8\" >0.1400</td>\n",
       "    </tr>\n",
       "    <tr>\n",
       "      <th id=\"T_0af38_level0_row12\" class=\"row_heading level0 row12\" >et</th>\n",
       "      <td id=\"T_0af38_row12_col0\" class=\"data row12 col0\" >Extra Trees Classifier</td>\n",
       "      <td id=\"T_0af38_row12_col1\" class=\"data row12 col1\" >0.8791</td>\n",
       "      <td id=\"T_0af38_row12_col2\" class=\"data row12 col2\" >0.6216</td>\n",
       "      <td id=\"T_0af38_row12_col3\" class=\"data row12 col3\" >0.1425</td>\n",
       "      <td id=\"T_0af38_row12_col4\" class=\"data row12 col4\" >0.1717</td>\n",
       "      <td id=\"T_0af38_row12_col5\" class=\"data row12 col5\" >0.1557</td>\n",
       "      <td id=\"T_0af38_row12_col6\" class=\"data row12 col6\" >0.0912</td>\n",
       "      <td id=\"T_0af38_row12_col7\" class=\"data row12 col7\" >0.0917</td>\n",
       "      <td id=\"T_0af38_row12_col8\" class=\"data row12 col8\" >0.7180</td>\n",
       "    </tr>\n",
       "    <tr>\n",
       "      <th id=\"T_0af38_level0_row13\" class=\"row_heading level0 row13\" >dt</th>\n",
       "      <td id=\"T_0af38_row13_col0\" class=\"data row13 col0\" >Decision Tree Classifier</td>\n",
       "      <td id=\"T_0af38_row13_col1\" class=\"data row13 col1\" >0.8685</td>\n",
       "      <td id=\"T_0af38_row13_col2\" class=\"data row13 col2\" >0.5554</td>\n",
       "      <td id=\"T_0af38_row13_col3\" class=\"data row13 col3\" >0.1806</td>\n",
       "      <td id=\"T_0af38_row13_col4\" class=\"data row13 col4\" >0.1732</td>\n",
       "      <td id=\"T_0af38_row13_col5\" class=\"data row13 col5\" >0.1767</td>\n",
       "      <td id=\"T_0af38_row13_col6\" class=\"data row13 col6\" >0.1054</td>\n",
       "      <td id=\"T_0af38_row13_col7\" class=\"data row13 col7\" >0.1054</td>\n",
       "      <td id=\"T_0af38_row13_col8\" class=\"data row13 col8\" >0.1330</td>\n",
       "    </tr>\n",
       "    <tr>\n",
       "      <th id=\"T_0af38_level0_row14\" class=\"row_heading level0 row14\" >dummy</th>\n",
       "      <td id=\"T_0af38_row14_col0\" class=\"data row14 col0\" >Dummy Classifier</td>\n",
       "      <td id=\"T_0af38_row14_col1\" class=\"data row14 col1\" >0.9217</td>\n",
       "      <td id=\"T_0af38_row14_col2\" class=\"data row14 col2\" >0.5000</td>\n",
       "      <td id=\"T_0af38_row14_col3\" class=\"data row14 col3\" >0.0000</td>\n",
       "      <td id=\"T_0af38_row14_col4\" class=\"data row14 col4\" >0.0000</td>\n",
       "      <td id=\"T_0af38_row14_col5\" class=\"data row14 col5\" >0.0000</td>\n",
       "      <td id=\"T_0af38_row14_col6\" class=\"data row14 col6\" >0.0000</td>\n",
       "      <td id=\"T_0af38_row14_col7\" class=\"data row14 col7\" >0.0000</td>\n",
       "      <td id=\"T_0af38_row14_col8\" class=\"data row14 col8\" >0.0960</td>\n",
       "    </tr>\n",
       "  </tbody>\n",
       "</table>\n"
      ],
      "text/plain": [
       "<pandas.io.formats.style.Styler at 0x237d5158890>"
      ]
     },
     "metadata": {},
     "output_type": "display_data"
    },
    {
     "data": {
      "text/html": [],
      "text/plain": [
       "<IPython.core.display.HTML object>"
      ]
     },
     "metadata": {},
     "output_type": "display_data"
    }
   ],
   "source": [
    "#ordenando a tabela por AUC\n",
    "best_model = compare_models(fold=10, sort='AUC')"
   ]
  },
  {
   "cell_type": "code",
   "execution_count": 16,
   "metadata": {},
   "outputs": [
    {
     "name": "stdout",
     "output_type": "stream",
     "text": [
      "SGDClassifier(alpha=0.0001, average=False, class_weight=None,\n",
      "              early_stopping=False, epsilon=0.1, eta0=0.001, fit_intercept=True,\n",
      "              l1_ratio=0.15, learning_rate='optimal', loss='hinge',\n",
      "              max_iter=1000, n_iter_no_change=5, n_jobs=-1, penalty='l2',\n",
      "              power_t=0.5, random_state=123, shuffle=True, tol=0.001,\n",
      "              validation_fraction=0.1, verbose=0, warm_start=False)\n"
     ]
    }
   ],
   "source": [
    "print(best_model)"
   ]
  },
  {
   "cell_type": "markdown",
   "metadata": {
    "colab_type": "text",
    "id": "P5m2pciOEQo4"
   },
   "source": [
    "# Criando um modelo"
   ]
  },
  {
   "cell_type": "code",
   "execution_count": 17,
   "metadata": {},
   "outputs": [
    {
     "data": {
      "text/html": [
       "<div>\n",
       "<style scoped>\n",
       "    .dataframe tbody tr th:only-of-type {\n",
       "        vertical-align: middle;\n",
       "    }\n",
       "\n",
       "    .dataframe tbody tr th {\n",
       "        vertical-align: top;\n",
       "    }\n",
       "\n",
       "    .dataframe thead th {\n",
       "        text-align: right;\n",
       "    }\n",
       "</style>\n",
       "<table border=\"1\" class=\"dataframe\">\n",
       "  <thead>\n",
       "    <tr style=\"text-align: right;\">\n",
       "      <th></th>\n",
       "      <th>Name</th>\n",
       "      <th>Reference</th>\n",
       "      <th>Turbo</th>\n",
       "    </tr>\n",
       "    <tr>\n",
       "      <th>ID</th>\n",
       "      <th></th>\n",
       "      <th></th>\n",
       "      <th></th>\n",
       "    </tr>\n",
       "  </thead>\n",
       "  <tbody>\n",
       "    <tr>\n",
       "      <th>lr</th>\n",
       "      <td>Logistic Regression</td>\n",
       "      <td>sklearn.linear_model._logistic.LogisticRegression</td>\n",
       "      <td>True</td>\n",
       "    </tr>\n",
       "    <tr>\n",
       "      <th>knn</th>\n",
       "      <td>K Neighbors Classifier</td>\n",
       "      <td>sklearn.neighbors._classification.KNeighborsCl...</td>\n",
       "      <td>True</td>\n",
       "    </tr>\n",
       "    <tr>\n",
       "      <th>nb</th>\n",
       "      <td>Naive Bayes</td>\n",
       "      <td>sklearn.naive_bayes.GaussianNB</td>\n",
       "      <td>True</td>\n",
       "    </tr>\n",
       "    <tr>\n",
       "      <th>dt</th>\n",
       "      <td>Decision Tree Classifier</td>\n",
       "      <td>sklearn.tree._classes.DecisionTreeClassifier</td>\n",
       "      <td>True</td>\n",
       "    </tr>\n",
       "    <tr>\n",
       "      <th>svm</th>\n",
       "      <td>SVM - Linear Kernel</td>\n",
       "      <td>sklearn.linear_model._stochastic_gradient.SGDC...</td>\n",
       "      <td>True</td>\n",
       "    </tr>\n",
       "    <tr>\n",
       "      <th>rbfsvm</th>\n",
       "      <td>SVM - Radial Kernel</td>\n",
       "      <td>sklearn.svm._classes.SVC</td>\n",
       "      <td>False</td>\n",
       "    </tr>\n",
       "    <tr>\n",
       "      <th>gpc</th>\n",
       "      <td>Gaussian Process Classifier</td>\n",
       "      <td>sklearn.gaussian_process._gpc.GaussianProcessC...</td>\n",
       "      <td>False</td>\n",
       "    </tr>\n",
       "    <tr>\n",
       "      <th>mlp</th>\n",
       "      <td>MLP Classifier</td>\n",
       "      <td>sklearn.neural_network._multilayer_perceptron....</td>\n",
       "      <td>False</td>\n",
       "    </tr>\n",
       "    <tr>\n",
       "      <th>ridge</th>\n",
       "      <td>Ridge Classifier</td>\n",
       "      <td>sklearn.linear_model._ridge.RidgeClassifier</td>\n",
       "      <td>True</td>\n",
       "    </tr>\n",
       "    <tr>\n",
       "      <th>rf</th>\n",
       "      <td>Random Forest Classifier</td>\n",
       "      <td>sklearn.ensemble._forest.RandomForestClassifier</td>\n",
       "      <td>True</td>\n",
       "    </tr>\n",
       "    <tr>\n",
       "      <th>qda</th>\n",
       "      <td>Quadratic Discriminant Analysis</td>\n",
       "      <td>sklearn.discriminant_analysis.QuadraticDiscrim...</td>\n",
       "      <td>True</td>\n",
       "    </tr>\n",
       "    <tr>\n",
       "      <th>ada</th>\n",
       "      <td>Ada Boost Classifier</td>\n",
       "      <td>sklearn.ensemble._weight_boosting.AdaBoostClas...</td>\n",
       "      <td>True</td>\n",
       "    </tr>\n",
       "    <tr>\n",
       "      <th>gbc</th>\n",
       "      <td>Gradient Boosting Classifier</td>\n",
       "      <td>sklearn.ensemble._gb.GradientBoostingClassifier</td>\n",
       "      <td>True</td>\n",
       "    </tr>\n",
       "    <tr>\n",
       "      <th>lda</th>\n",
       "      <td>Linear Discriminant Analysis</td>\n",
       "      <td>sklearn.discriminant_analysis.LinearDiscrimina...</td>\n",
       "      <td>True</td>\n",
       "    </tr>\n",
       "    <tr>\n",
       "      <th>et</th>\n",
       "      <td>Extra Trees Classifier</td>\n",
       "      <td>sklearn.ensemble._forest.ExtraTreesClassifier</td>\n",
       "      <td>True</td>\n",
       "    </tr>\n",
       "    <tr>\n",
       "      <th>lightgbm</th>\n",
       "      <td>Light Gradient Boosting Machine</td>\n",
       "      <td>lightgbm.sklearn.LGBMClassifier</td>\n",
       "      <td>True</td>\n",
       "    </tr>\n",
       "    <tr>\n",
       "      <th>catboost</th>\n",
       "      <td>CatBoost Classifier</td>\n",
       "      <td>catboost.core.CatBoostClassifier</td>\n",
       "      <td>True</td>\n",
       "    </tr>\n",
       "    <tr>\n",
       "      <th>dummy</th>\n",
       "      <td>Dummy Classifier</td>\n",
       "      <td>sklearn.dummy.DummyClassifier</td>\n",
       "      <td>True</td>\n",
       "    </tr>\n",
       "  </tbody>\n",
       "</table>\n",
       "</div>"
      ],
      "text/plain": [
       "                                     Name  \\\n",
       "ID                                          \n",
       "lr                    Logistic Regression   \n",
       "knn                K Neighbors Classifier   \n",
       "nb                            Naive Bayes   \n",
       "dt               Decision Tree Classifier   \n",
       "svm                   SVM - Linear Kernel   \n",
       "rbfsvm                SVM - Radial Kernel   \n",
       "gpc           Gaussian Process Classifier   \n",
       "mlp                        MLP Classifier   \n",
       "ridge                    Ridge Classifier   \n",
       "rf               Random Forest Classifier   \n",
       "qda       Quadratic Discriminant Analysis   \n",
       "ada                  Ada Boost Classifier   \n",
       "gbc          Gradient Boosting Classifier   \n",
       "lda          Linear Discriminant Analysis   \n",
       "et                 Extra Trees Classifier   \n",
       "lightgbm  Light Gradient Boosting Machine   \n",
       "catboost              CatBoost Classifier   \n",
       "dummy                    Dummy Classifier   \n",
       "\n",
       "                                                  Reference  Turbo  \n",
       "ID                                                                  \n",
       "lr        sklearn.linear_model._logistic.LogisticRegression   True  \n",
       "knn       sklearn.neighbors._classification.KNeighborsCl...   True  \n",
       "nb                           sklearn.naive_bayes.GaussianNB   True  \n",
       "dt             sklearn.tree._classes.DecisionTreeClassifier   True  \n",
       "svm       sklearn.linear_model._stochastic_gradient.SGDC...   True  \n",
       "rbfsvm                             sklearn.svm._classes.SVC  False  \n",
       "gpc       sklearn.gaussian_process._gpc.GaussianProcessC...  False  \n",
       "mlp       sklearn.neural_network._multilayer_perceptron....  False  \n",
       "ridge           sklearn.linear_model._ridge.RidgeClassifier   True  \n",
       "rf          sklearn.ensemble._forest.RandomForestClassifier   True  \n",
       "qda       sklearn.discriminant_analysis.QuadraticDiscrim...   True  \n",
       "ada       sklearn.ensemble._weight_boosting.AdaBoostClas...   True  \n",
       "gbc         sklearn.ensemble._gb.GradientBoostingClassifier   True  \n",
       "lda       sklearn.discriminant_analysis.LinearDiscrimina...   True  \n",
       "et            sklearn.ensemble._forest.ExtraTreesClassifier   True  \n",
       "lightgbm                    lightgbm.sklearn.LGBMClassifier   True  \n",
       "catboost                   catboost.core.CatBoostClassifier   True  \n",
       "dummy                         sklearn.dummy.DummyClassifier   True  "
      ]
     },
     "execution_count": 17,
     "metadata": {},
     "output_type": "execute_result"
    }
   ],
   "source": [
    "models()"
   ]
  },
  {
   "cell_type": "markdown",
   "metadata": {
    "colab_type": "text",
    "id": "nSg3OUjuEQpu"
   },
   "source": [
    "### 8.3 Gradient Boosting Classifier"
   ]
  },
  {
   "cell_type": "code",
   "execution_count": 18,
   "metadata": {
    "colab": {
     "base_uri": "https://localhost:8080/",
     "height": 392
    },
    "colab_type": "code",
    "id": "FGCoUiQpEQpz",
    "outputId": "212cb736-6dcb-4b77-e45b-14ad895bff43"
   },
   "outputs": [
    {
     "data": {
      "text/html": [],
      "text/plain": [
       "<IPython.core.display.HTML object>"
      ]
     },
     "metadata": {},
     "output_type": "display_data"
    },
    {
     "data": {
      "text/html": [
       "<style type=\"text/css\">\n",
       "#T_dc89c_row10_col0, #T_dc89c_row10_col1, #T_dc89c_row10_col2, #T_dc89c_row10_col3, #T_dc89c_row10_col4, #T_dc89c_row10_col5, #T_dc89c_row10_col6 {\n",
       "  background: yellow;\n",
       "}\n",
       "</style>\n",
       "<table id=\"T_dc89c\">\n",
       "  <thead>\n",
       "    <tr>\n",
       "      <th class=\"blank level0\" >&nbsp;</th>\n",
       "      <th id=\"T_dc89c_level0_col0\" class=\"col_heading level0 col0\" >Accuracy</th>\n",
       "      <th id=\"T_dc89c_level0_col1\" class=\"col_heading level0 col1\" >AUC</th>\n",
       "      <th id=\"T_dc89c_level0_col2\" class=\"col_heading level0 col2\" >Recall</th>\n",
       "      <th id=\"T_dc89c_level0_col3\" class=\"col_heading level0 col3\" >Prec.</th>\n",
       "      <th id=\"T_dc89c_level0_col4\" class=\"col_heading level0 col4\" >F1</th>\n",
       "      <th id=\"T_dc89c_level0_col5\" class=\"col_heading level0 col5\" >Kappa</th>\n",
       "      <th id=\"T_dc89c_level0_col6\" class=\"col_heading level0 col6\" >MCC</th>\n",
       "    </tr>\n",
       "    <tr>\n",
       "      <th class=\"index_name level0\" >Fold</th>\n",
       "      <th class=\"blank col0\" >&nbsp;</th>\n",
       "      <th class=\"blank col1\" >&nbsp;</th>\n",
       "      <th class=\"blank col2\" >&nbsp;</th>\n",
       "      <th class=\"blank col3\" >&nbsp;</th>\n",
       "      <th class=\"blank col4\" >&nbsp;</th>\n",
       "      <th class=\"blank col5\" >&nbsp;</th>\n",
       "      <th class=\"blank col6\" >&nbsp;</th>\n",
       "    </tr>\n",
       "  </thead>\n",
       "  <tbody>\n",
       "    <tr>\n",
       "      <th id=\"T_dc89c_level0_row0\" class=\"row_heading level0 row0\" >0</th>\n",
       "      <td id=\"T_dc89c_row0_col0\" class=\"data row0 col0\" >0.9203</td>\n",
       "      <td id=\"T_dc89c_row0_col1\" class=\"data row0 col1\" >0.7583</td>\n",
       "      <td id=\"T_dc89c_row0_col2\" class=\"data row0 col2\" >0.0154</td>\n",
       "      <td id=\"T_dc89c_row0_col3\" class=\"data row0 col3\" >0.3077</td>\n",
       "      <td id=\"T_dc89c_row0_col4\" class=\"data row0 col4\" >0.0293</td>\n",
       "      <td id=\"T_dc89c_row0_col5\" class=\"data row0 col5\" >0.0220</td>\n",
       "      <td id=\"T_dc89c_row0_col6\" class=\"data row0 col6\" >0.0536</td>\n",
       "    </tr>\n",
       "    <tr>\n",
       "      <th id=\"T_dc89c_level0_row1\" class=\"row_heading level0 row1\" >1</th>\n",
       "      <td id=\"T_dc89c_row1_col0\" class=\"data row1 col0\" >0.9218</td>\n",
       "      <td id=\"T_dc89c_row1_col1\" class=\"data row1 col1\" >0.7823</td>\n",
       "      <td id=\"T_dc89c_row1_col2\" class=\"data row1 col2\" >0.0192</td>\n",
       "      <td id=\"T_dc89c_row1_col3\" class=\"data row1 col3\" >0.5000</td>\n",
       "      <td id=\"T_dc89c_row1_col4\" class=\"data row1 col4\" >0.0370</td>\n",
       "      <td id=\"T_dc89c_row1_col5\" class=\"data row1 col5\" >0.0314</td>\n",
       "      <td id=\"T_dc89c_row1_col6\" class=\"data row1 col6\" >0.0863</td>\n",
       "    </tr>\n",
       "    <tr>\n",
       "      <th id=\"T_dc89c_level0_row2\" class=\"row_heading level0 row2\" >2</th>\n",
       "      <td id=\"T_dc89c_row2_col0\" class=\"data row2 col0\" >0.9227</td>\n",
       "      <td id=\"T_dc89c_row2_col1\" class=\"data row2 col1\" >0.7565</td>\n",
       "      <td id=\"T_dc89c_row2_col2\" class=\"data row2 col2\" >0.0269</td>\n",
       "      <td id=\"T_dc89c_row2_col3\" class=\"data row2 col3\" >0.6364</td>\n",
       "      <td id=\"T_dc89c_row2_col4\" class=\"data row2 col4\" >0.0517</td>\n",
       "      <td id=\"T_dc89c_row2_col5\" class=\"data row2 col5\" >0.0456</td>\n",
       "      <td id=\"T_dc89c_row2_col6\" class=\"data row2 col6\" >0.1198</td>\n",
       "    </tr>\n",
       "    <tr>\n",
       "      <th id=\"T_dc89c_level0_row3\" class=\"row_heading level0 row3\" >3</th>\n",
       "      <td id=\"T_dc89c_row3_col0\" class=\"data row3 col0\" >0.9218</td>\n",
       "      <td id=\"T_dc89c_row3_col1\" class=\"data row3 col1\" >0.7690</td>\n",
       "      <td id=\"T_dc89c_row3_col2\" class=\"data row3 col2\" >0.0192</td>\n",
       "      <td id=\"T_dc89c_row3_col3\" class=\"data row3 col3\" >0.5000</td>\n",
       "      <td id=\"T_dc89c_row3_col4\" class=\"data row3 col4\" >0.0370</td>\n",
       "      <td id=\"T_dc89c_row3_col5\" class=\"data row3 col5\" >0.0314</td>\n",
       "      <td id=\"T_dc89c_row3_col6\" class=\"data row3 col6\" >0.0863</td>\n",
       "    </tr>\n",
       "    <tr>\n",
       "      <th id=\"T_dc89c_level0_row4\" class=\"row_heading level0 row4\" >4</th>\n",
       "      <td id=\"T_dc89c_row4_col0\" class=\"data row4 col0\" >0.9203</td>\n",
       "      <td id=\"T_dc89c_row4_col1\" class=\"data row4 col1\" >0.7674</td>\n",
       "      <td id=\"T_dc89c_row4_col2\" class=\"data row4 col2\" >0.0154</td>\n",
       "      <td id=\"T_dc89c_row4_col3\" class=\"data row4 col3\" >0.3077</td>\n",
       "      <td id=\"T_dc89c_row4_col4\" class=\"data row4 col4\" >0.0293</td>\n",
       "      <td id=\"T_dc89c_row4_col5\" class=\"data row4 col5\" >0.0220</td>\n",
       "      <td id=\"T_dc89c_row4_col6\" class=\"data row4 col6\" >0.0536</td>\n",
       "    </tr>\n",
       "    <tr>\n",
       "      <th id=\"T_dc89c_level0_row5\" class=\"row_heading level0 row5\" >5</th>\n",
       "      <td id=\"T_dc89c_row5_col0\" class=\"data row5 col0\" >0.9221</td>\n",
       "      <td id=\"T_dc89c_row5_col1\" class=\"data row5 col1\" >0.7920</td>\n",
       "      <td id=\"T_dc89c_row5_col2\" class=\"data row5 col2\" >0.0308</td>\n",
       "      <td id=\"T_dc89c_row5_col3\" class=\"data row5 col3\" >0.5333</td>\n",
       "      <td id=\"T_dc89c_row5_col4\" class=\"data row5 col4\" >0.0582</td>\n",
       "      <td id=\"T_dc89c_row5_col5\" class=\"data row5 col5\" >0.0501</td>\n",
       "      <td id=\"T_dc89c_row5_col6\" class=\"data row5 col6\" >0.1141</td>\n",
       "    </tr>\n",
       "    <tr>\n",
       "      <th id=\"T_dc89c_level0_row6\" class=\"row_heading level0 row6\" >6</th>\n",
       "      <td id=\"T_dc89c_row6_col0\" class=\"data row6 col0\" >0.9227</td>\n",
       "      <td id=\"T_dc89c_row6_col1\" class=\"data row6 col1\" >0.7806</td>\n",
       "      <td id=\"T_dc89c_row6_col2\" class=\"data row6 col2\" >0.0269</td>\n",
       "      <td id=\"T_dc89c_row6_col3\" class=\"data row6 col3\" >0.6364</td>\n",
       "      <td id=\"T_dc89c_row6_col4\" class=\"data row6 col4\" >0.0517</td>\n",
       "      <td id=\"T_dc89c_row6_col5\" class=\"data row6 col5\" >0.0456</td>\n",
       "      <td id=\"T_dc89c_row6_col6\" class=\"data row6 col6\" >0.1198</td>\n",
       "    </tr>\n",
       "    <tr>\n",
       "      <th id=\"T_dc89c_level0_row7\" class=\"row_heading level0 row7\" >7</th>\n",
       "      <td id=\"T_dc89c_row7_col0\" class=\"data row7 col0\" >0.9212</td>\n",
       "      <td id=\"T_dc89c_row7_col1\" class=\"data row7 col1\" >0.7669</td>\n",
       "      <td id=\"T_dc89c_row7_col2\" class=\"data row7 col2\" >0.0115</td>\n",
       "      <td id=\"T_dc89c_row7_col3\" class=\"data row7 col3\" >0.4286</td>\n",
       "      <td id=\"T_dc89c_row7_col4\" class=\"data row7 col4\" >0.0224</td>\n",
       "      <td id=\"T_dc89c_row7_col5\" class=\"data row7 col5\" >0.0184</td>\n",
       "      <td id=\"T_dc89c_row7_col6\" class=\"data row7 col6\" >0.0598</td>\n",
       "    </tr>\n",
       "    <tr>\n",
       "      <th id=\"T_dc89c_level0_row8\" class=\"row_heading level0 row8\" >8</th>\n",
       "      <td id=\"T_dc89c_row8_col0\" class=\"data row8 col0\" >0.9212</td>\n",
       "      <td id=\"T_dc89c_row8_col1\" class=\"data row8 col1\" >0.7554</td>\n",
       "      <td id=\"T_dc89c_row8_col2\" class=\"data row8 col2\" >0.0077</td>\n",
       "      <td id=\"T_dc89c_row8_col3\" class=\"data row8 col3\" >0.4000</td>\n",
       "      <td id=\"T_dc89c_row8_col4\" class=\"data row8 col4\" >0.0150</td>\n",
       "      <td id=\"T_dc89c_row8_col5\" class=\"data row8 col5\" >0.0121</td>\n",
       "      <td id=\"T_dc89c_row8_col6\" class=\"data row8 col6\" >0.0464</td>\n",
       "    </tr>\n",
       "    <tr>\n",
       "      <th id=\"T_dc89c_level0_row9\" class=\"row_heading level0 row9\" >9</th>\n",
       "      <td id=\"T_dc89c_row9_col0\" class=\"data row9 col0\" >0.9215</td>\n",
       "      <td id=\"T_dc89c_row9_col1\" class=\"data row9 col1\" >0.7871</td>\n",
       "      <td id=\"T_dc89c_row9_col2\" class=\"data row9 col2\" >0.0192</td>\n",
       "      <td id=\"T_dc89c_row9_col3\" class=\"data row9 col3\" >0.5000</td>\n",
       "      <td id=\"T_dc89c_row9_col4\" class=\"data row9 col4\" >0.0369</td>\n",
       "      <td id=\"T_dc89c_row9_col5\" class=\"data row9 col5\" >0.0313</td>\n",
       "      <td id=\"T_dc89c_row9_col6\" class=\"data row9 col6\" >0.0861</td>\n",
       "    </tr>\n",
       "    <tr>\n",
       "      <th id=\"T_dc89c_level0_row10\" class=\"row_heading level0 row10\" >Mean</th>\n",
       "      <td id=\"T_dc89c_row10_col0\" class=\"data row10 col0\" >0.9216</td>\n",
       "      <td id=\"T_dc89c_row10_col1\" class=\"data row10 col1\" >0.7716</td>\n",
       "      <td id=\"T_dc89c_row10_col2\" class=\"data row10 col2\" >0.0192</td>\n",
       "      <td id=\"T_dc89c_row10_col3\" class=\"data row10 col3\" >0.4750</td>\n",
       "      <td id=\"T_dc89c_row10_col4\" class=\"data row10 col4\" >0.0369</td>\n",
       "      <td id=\"T_dc89c_row10_col5\" class=\"data row10 col5\" >0.0310</td>\n",
       "      <td id=\"T_dc89c_row10_col6\" class=\"data row10 col6\" >0.0826</td>\n",
       "    </tr>\n",
       "    <tr>\n",
       "      <th id=\"T_dc89c_level0_row11\" class=\"row_heading level0 row11\" >Std</th>\n",
       "      <td id=\"T_dc89c_row11_col0\" class=\"data row11 col0\" >0.0008</td>\n",
       "      <td id=\"T_dc89c_row11_col1\" class=\"data row11 col1\" >0.0125</td>\n",
       "      <td id=\"T_dc89c_row11_col2\" class=\"data row11 col2\" >0.0069</td>\n",
       "      <td id=\"T_dc89c_row11_col3\" class=\"data row11 col3\" >0.1101</td>\n",
       "      <td id=\"T_dc89c_row11_col4\" class=\"data row11 col4\" >0.0130</td>\n",
       "      <td id=\"T_dc89c_row11_col5\" class=\"data row11 col5\" >0.0121</td>\n",
       "      <td id=\"T_dc89c_row11_col6\" class=\"data row11 col6\" >0.0270</td>\n",
       "    </tr>\n",
       "  </tbody>\n",
       "</table>\n"
      ],
      "text/plain": [
       "<pandas.io.formats.style.Styler at 0x237b06f1890>"
      ]
     },
     "metadata": {},
     "output_type": "display_data"
    },
    {
     "data": {
      "text/html": [],
      "text/plain": [
       "<IPython.core.display.HTML object>"
      ]
     },
     "metadata": {},
     "output_type": "display_data"
    }
   ],
   "source": [
    "gbc = create_model('gbc')"
   ]
  },
  {
   "cell_type": "markdown",
   "metadata": {
    "colab_type": "text",
    "id": "XvpjzbGQEQqB"
   },
   "source": [
    "# Model tunning (Hyperparameter Tunning)"
   ]
  },
  {
   "cell_type": "markdown",
   "metadata": {
    "colab_type": "text",
    "id": "KO3zIfs-EQrA"
   },
   "source": [
    "### Gradient Boosting"
   ]
  },
  {
   "cell_type": "code",
   "execution_count": 19,
   "metadata": {
    "colab": {
     "base_uri": "https://localhost:8080/",
     "height": 392
    },
    "colab_type": "code",
    "id": "gmaIfnBMEQrE",
    "outputId": "a59cebfa-f81e-477c-f83c-e9443fd80b0f"
   },
   "outputs": [
    {
     "data": {
      "text/html": [],
      "text/plain": [
       "<IPython.core.display.HTML object>"
      ]
     },
     "metadata": {},
     "output_type": "display_data"
    },
    {
     "data": {
      "text/html": [
       "<style type=\"text/css\">\n",
       "#T_08c29_row10_col0, #T_08c29_row10_col1, #T_08c29_row10_col2, #T_08c29_row10_col3, #T_08c29_row10_col4, #T_08c29_row10_col5, #T_08c29_row10_col6 {\n",
       "  background: yellow;\n",
       "}\n",
       "</style>\n",
       "<table id=\"T_08c29\">\n",
       "  <thead>\n",
       "    <tr>\n",
       "      <th class=\"blank level0\" >&nbsp;</th>\n",
       "      <th id=\"T_08c29_level0_col0\" class=\"col_heading level0 col0\" >Accuracy</th>\n",
       "      <th id=\"T_08c29_level0_col1\" class=\"col_heading level0 col1\" >AUC</th>\n",
       "      <th id=\"T_08c29_level0_col2\" class=\"col_heading level0 col2\" >Recall</th>\n",
       "      <th id=\"T_08c29_level0_col3\" class=\"col_heading level0 col3\" >Prec.</th>\n",
       "      <th id=\"T_08c29_level0_col4\" class=\"col_heading level0 col4\" >F1</th>\n",
       "      <th id=\"T_08c29_level0_col5\" class=\"col_heading level0 col5\" >Kappa</th>\n",
       "      <th id=\"T_08c29_level0_col6\" class=\"col_heading level0 col6\" >MCC</th>\n",
       "    </tr>\n",
       "    <tr>\n",
       "      <th class=\"index_name level0\" >Fold</th>\n",
       "      <th class=\"blank col0\" >&nbsp;</th>\n",
       "      <th class=\"blank col1\" >&nbsp;</th>\n",
       "      <th class=\"blank col2\" >&nbsp;</th>\n",
       "      <th class=\"blank col3\" >&nbsp;</th>\n",
       "      <th class=\"blank col4\" >&nbsp;</th>\n",
       "      <th class=\"blank col5\" >&nbsp;</th>\n",
       "      <th class=\"blank col6\" >&nbsp;</th>\n",
       "    </tr>\n",
       "  </thead>\n",
       "  <tbody>\n",
       "    <tr>\n",
       "      <th id=\"T_08c29_level0_row0\" class=\"row_heading level0 row0\" >0</th>\n",
       "      <td id=\"T_08c29_row0_col0\" class=\"data row0 col0\" >0.8992</td>\n",
       "      <td id=\"T_08c29_row0_col1\" class=\"data row0 col1\" >0.6800</td>\n",
       "      <td id=\"T_08c29_row0_col2\" class=\"data row0 col2\" >0.0808</td>\n",
       "      <td id=\"T_08c29_row0_col3\" class=\"data row0 col3\" >0.1795</td>\n",
       "      <td id=\"T_08c29_row0_col4\" class=\"data row0 col4\" >0.1114</td>\n",
       "      <td id=\"T_08c29_row0_col5\" class=\"data row0 col5\" >0.0661</td>\n",
       "      <td id=\"T_08c29_row0_col6\" class=\"data row0 col6\" >0.0721</td>\n",
       "    </tr>\n",
       "    <tr>\n",
       "      <th id=\"T_08c29_level0_row1\" class=\"row_heading level0 row1\" >1</th>\n",
       "      <td id=\"T_08c29_row1_col0\" class=\"data row1 col0\" >0.9020</td>\n",
       "      <td id=\"T_08c29_row1_col1\" class=\"data row1 col1\" >0.6660</td>\n",
       "      <td id=\"T_08c29_row1_col2\" class=\"data row1 col2\" >0.0808</td>\n",
       "      <td id=\"T_08c29_row1_col3\" class=\"data row1 col3\" >0.1944</td>\n",
       "      <td id=\"T_08c29_row1_col4\" class=\"data row1 col4\" >0.1141</td>\n",
       "      <td id=\"T_08c29_row1_col5\" class=\"data row1 col5\" >0.0715</td>\n",
       "      <td id=\"T_08c29_row1_col6\" class=\"data row1 col6\" >0.0793</td>\n",
       "    </tr>\n",
       "    <tr>\n",
       "      <th id=\"T_08c29_level0_row2\" class=\"row_heading level0 row2\" >2</th>\n",
       "      <td id=\"T_08c29_row2_col0\" class=\"data row2 col0\" >0.9005</td>\n",
       "      <td id=\"T_08c29_row2_col1\" class=\"data row2 col1\" >0.6722</td>\n",
       "      <td id=\"T_08c29_row2_col2\" class=\"data row2 col2\" >0.0846</td>\n",
       "      <td id=\"T_08c29_row2_col3\" class=\"data row2 col3\" >0.1913</td>\n",
       "      <td id=\"T_08c29_row2_col4\" class=\"data row2 col4\" >0.1173</td>\n",
       "      <td id=\"T_08c29_row2_col5\" class=\"data row2 col5\" >0.0729</td>\n",
       "      <td id=\"T_08c29_row2_col6\" class=\"data row2 col6\" >0.0797</td>\n",
       "    </tr>\n",
       "    <tr>\n",
       "      <th id=\"T_08c29_level0_row3\" class=\"row_heading level0 row3\" >3</th>\n",
       "      <td id=\"T_08c29_row3_col0\" class=\"data row3 col0\" >0.8983</td>\n",
       "      <td id=\"T_08c29_row3_col1\" class=\"data row3 col1\" >0.6755</td>\n",
       "      <td id=\"T_08c29_row3_col2\" class=\"data row3 col2\" >0.1000</td>\n",
       "      <td id=\"T_08c29_row3_col3\" class=\"data row3 col3\" >0.2000</td>\n",
       "      <td id=\"T_08c29_row3_col4\" class=\"data row3 col4\" >0.1333</td>\n",
       "      <td id=\"T_08c29_row3_col5\" class=\"data row3 col5\" >0.0857</td>\n",
       "      <td id=\"T_08c29_row3_col6\" class=\"data row3 col6\" >0.0915</td>\n",
       "    </tr>\n",
       "    <tr>\n",
       "      <th id=\"T_08c29_level0_row4\" class=\"row_heading level0 row4\" >4</th>\n",
       "      <td id=\"T_08c29_row4_col0\" class=\"data row4 col0\" >0.8992</td>\n",
       "      <td id=\"T_08c29_row4_col1\" class=\"data row4 col1\" >0.6720</td>\n",
       "      <td id=\"T_08c29_row4_col2\" class=\"data row4 col2\" >0.0846</td>\n",
       "      <td id=\"T_08c29_row4_col3\" class=\"data row4 col3\" >0.1849</td>\n",
       "      <td id=\"T_08c29_row4_col4\" class=\"data row4 col4\" >0.1161</td>\n",
       "      <td id=\"T_08c29_row4_col5\" class=\"data row4 col5\" >0.0705</td>\n",
       "      <td id=\"T_08c29_row4_col6\" class=\"data row4 col6\" >0.0766</td>\n",
       "    </tr>\n",
       "    <tr>\n",
       "      <th id=\"T_08c29_level0_row5\" class=\"row_heading level0 row5\" >5</th>\n",
       "      <td id=\"T_08c29_row5_col0\" class=\"data row5 col0\" >0.9032</td>\n",
       "      <td id=\"T_08c29_row5_col1\" class=\"data row5 col1\" >0.7163</td>\n",
       "      <td id=\"T_08c29_row5_col2\" class=\"data row5 col2\" >0.1154</td>\n",
       "      <td id=\"T_08c29_row5_col3\" class=\"data row5 col3\" >0.2459</td>\n",
       "      <td id=\"T_08c29_row5_col4\" class=\"data row5 col4\" >0.1571</td>\n",
       "      <td id=\"T_08c29_row5_col5\" class=\"data row5 col5\" >0.1128</td>\n",
       "      <td id=\"T_08c29_row5_col6\" class=\"data row5 col6\" >0.1219</td>\n",
       "    </tr>\n",
       "    <tr>\n",
       "      <th id=\"T_08c29_level0_row6\" class=\"row_heading level0 row6\" >6</th>\n",
       "      <td id=\"T_08c29_row6_col0\" class=\"data row6 col0\" >0.8923</td>\n",
       "      <td id=\"T_08c29_row6_col1\" class=\"data row6 col1\" >0.6714</td>\n",
       "      <td id=\"T_08c29_row6_col2\" class=\"data row6 col2\" >0.0731</td>\n",
       "      <td id=\"T_08c29_row6_col3\" class=\"data row6 col3\" >0.1397</td>\n",
       "      <td id=\"T_08c29_row6_col4\" class=\"data row6 col4\" >0.0960</td>\n",
       "      <td id=\"T_08c29_row6_col5\" class=\"data row6 col5\" >0.0446</td>\n",
       "      <td id=\"T_08c29_row6_col6\" class=\"data row6 col6\" >0.0473</td>\n",
       "    </tr>\n",
       "    <tr>\n",
       "      <th id=\"T_08c29_level0_row7\" class=\"row_heading level0 row7\" >7</th>\n",
       "      <td id=\"T_08c29_row7_col0\" class=\"data row7 col0\" >0.9014</td>\n",
       "      <td id=\"T_08c29_row7_col1\" class=\"data row7 col1\" >0.6849</td>\n",
       "      <td id=\"T_08c29_row7_col2\" class=\"data row7 col2\" >0.0651</td>\n",
       "      <td id=\"T_08c29_row7_col3\" class=\"data row7 col3\" >0.1683</td>\n",
       "      <td id=\"T_08c29_row7_col4\" class=\"data row7 col4\" >0.0939</td>\n",
       "      <td id=\"T_08c29_row7_col5\" class=\"data row7 col5\" >0.0524</td>\n",
       "      <td id=\"T_08c29_row7_col6\" class=\"data row7 col6\" >0.0591</td>\n",
       "    </tr>\n",
       "    <tr>\n",
       "      <th id=\"T_08c29_level0_row8\" class=\"row_heading level0 row8\" >8</th>\n",
       "      <td id=\"T_08c29_row8_col0\" class=\"data row8 col0\" >0.9032</td>\n",
       "      <td id=\"T_08c29_row8_col1\" class=\"data row8 col1\" >0.7008</td>\n",
       "      <td id=\"T_08c29_row8_col2\" class=\"data row8 col2\" >0.1034</td>\n",
       "      <td id=\"T_08c29_row8_col3\" class=\"data row8 col3\" >0.2348</td>\n",
       "      <td id=\"T_08c29_row8_col4\" class=\"data row8 col4\" >0.1436</td>\n",
       "      <td id=\"T_08c29_row8_col5\" class=\"data row8 col5\" >0.1004</td>\n",
       "      <td id=\"T_08c29_row8_col6\" class=\"data row8 col6\" >0.1100</td>\n",
       "    </tr>\n",
       "    <tr>\n",
       "      <th id=\"T_08c29_level0_row9\" class=\"row_heading level0 row9\" >9</th>\n",
       "      <td id=\"T_08c29_row9_col0\" class=\"data row9 col0\" >0.9008</td>\n",
       "      <td id=\"T_08c29_row9_col1\" class=\"data row9 col1\" >0.6509</td>\n",
       "      <td id=\"T_08c29_row9_col2\" class=\"data row9 col2\" >0.0996</td>\n",
       "      <td id=\"T_08c29_row9_col3\" class=\"data row9 col3\" >0.2149</td>\n",
       "      <td id=\"T_08c29_row9_col4\" class=\"data row9 col4\" >0.1361</td>\n",
       "      <td id=\"T_08c29_row9_col5\" class=\"data row9 col5\" >0.0909</td>\n",
       "      <td id=\"T_08c29_row9_col6\" class=\"data row9 col6\" >0.0985</td>\n",
       "    </tr>\n",
       "    <tr>\n",
       "      <th id=\"T_08c29_level0_row10\" class=\"row_heading level0 row10\" >Mean</th>\n",
       "      <td id=\"T_08c29_row10_col0\" class=\"data row10 col0\" >0.9000</td>\n",
       "      <td id=\"T_08c29_row10_col1\" class=\"data row10 col1\" >0.6790</td>\n",
       "      <td id=\"T_08c29_row10_col2\" class=\"data row10 col2\" >0.0887</td>\n",
       "      <td id=\"T_08c29_row10_col3\" class=\"data row10 col3\" >0.1954</td>\n",
       "      <td id=\"T_08c29_row10_col4\" class=\"data row10 col4\" >0.1219</td>\n",
       "      <td id=\"T_08c29_row10_col5\" class=\"data row10 col5\" >0.0768</td>\n",
       "      <td id=\"T_08c29_row10_col6\" class=\"data row10 col6\" >0.0836</td>\n",
       "    </tr>\n",
       "    <tr>\n",
       "      <th id=\"T_08c29_level0_row11\" class=\"row_heading level0 row11\" >Std</th>\n",
       "      <td id=\"T_08c29_row11_col0\" class=\"data row11 col0\" >0.0030</td>\n",
       "      <td id=\"T_08c29_row11_col1\" class=\"data row11 col1\" >0.0174</td>\n",
       "      <td id=\"T_08c29_row11_col2\" class=\"data row11 col2\" >0.0146</td>\n",
       "      <td id=\"T_08c29_row11_col3\" class=\"data row11 col3\" >0.0295</td>\n",
       "      <td id=\"T_08c29_row11_col4\" class=\"data row11 col4\" >0.0193</td>\n",
       "      <td id=\"T_08c29_row11_col5\" class=\"data row11 col5\" >0.0199</td>\n",
       "      <td id=\"T_08c29_row11_col6\" class=\"data row11 col6\" >0.0214</td>\n",
       "    </tr>\n",
       "  </tbody>\n",
       "</table>\n"
      ],
      "text/plain": [
       "<pandas.io.formats.style.Styler at 0x237d50deed0>"
      ]
     },
     "metadata": {},
     "output_type": "display_data"
    },
    {
     "data": {
      "text/html": [],
      "text/plain": [
       "<IPython.core.display.HTML object>"
      ]
     },
     "metadata": {},
     "output_type": "display_data"
    },
    {
     "name": "stdout",
     "output_type": "stream",
     "text": [
      "Fitting 10 folds for each of 10 candidates, totalling 100 fits\n"
     ]
    }
   ],
   "source": [
    "tuned_gbc = tune_model(gbc, optimize='F1')"
   ]
  },
  {
   "cell_type": "markdown",
   "metadata": {
    "colab_type": "text",
    "id": "w_P46O0jEQrT"
   },
   "source": [
    "# Analisando o resultado do modelo"
   ]
  },
  {
   "cell_type": "markdown",
   "metadata": {
    "colab_type": "text",
    "id": "euqkQYJaEQrY"
   },
   "source": [
    "### 10.1 AUC Plot"
   ]
  },
  {
   "cell_type": "code",
   "execution_count": 20,
   "metadata": {
    "colab": {},
    "colab_type": "code",
    "id": "RLbLqvkHEQra",
    "outputId": "fe40b5e3-6375-43e8-e97d-1d487e02eb2d"
   },
   "outputs": [
    {
     "data": {
      "text/html": [],
      "text/plain": [
       "<IPython.core.display.HTML object>"
      ]
     },
     "metadata": {},
     "output_type": "display_data"
    },
    {
     "data": {
      "image/png": "[encoded data removed]",
      "text/plain": [
       "<Figure size 800x550 with 1 Axes>"
      ]
     },
     "metadata": {},
     "output_type": "display_data"
    }
   ],
   "source": [
    "plot_model(tuned_gbc, plot = 'auc')"
   ]
  },
  {
   "cell_type": "markdown",
   "metadata": {
    "colab_type": "text",
    "id": "bwyoTUDQEQrm"
   },
   "source": [
    "### 10.2 Precision-Recall Plot"
   ]
  },
  {
   "cell_type": "code",
   "execution_count": 21,
   "metadata": {
    "colab": {},
    "colab_type": "code",
    "id": "4IvchQoiEQrr",
    "outputId": "fdff2076-86fc-42f5-beee-f0051ea30dd4"
   },
   "outputs": [
    {
     "data": {
      "text/html": [],
      "text/plain": [
       "<IPython.core.display.HTML object>"
      ]
     },
     "metadata": {},
     "output_type": "display_data"
    },
    {
     "data": {
      "image/png": "[encoded data removed]",
      "text/plain": [
       "<Figure size 800x550 with 1 Axes>"
      ]
     },
     "metadata": {},
     "output_type": "display_data"
    }
   ],
   "source": [
    "plot_model(tuned_gbc, plot = 'pr')"
   ]
  },
  {
   "cell_type": "markdown",
   "metadata": {
    "colab_type": "text",
    "id": "_r9rwEw7EQrz"
   },
   "source": [
    "### 10.3 Importância das variáveis (Feature Importance) Plot"
   ]
  },
  {
   "cell_type": "code",
   "execution_count": 22,
   "metadata": {
    "colab": {},
    "colab_type": "code",
    "id": "nVScSxJ-EQr2",
    "outputId": "f44f4b08-b749-4d0e-dcc9-d7e3dc6240c8"
   },
   "outputs": [
    {
     "data": {
      "text/html": [],
      "text/plain": [
       "<IPython.core.display.HTML object>"
      ]
     },
     "metadata": {},
     "output_type": "display_data"
    },
    {
     "data": {
      "image/png": "[encoded data removed]",
      "text/plain": [
       "<Figure size 800x500 with 1 Axes>"
      ]
     },
     "metadata": {},
     "output_type": "display_data"
    }
   ],
   "source": [
    "plot_model(tuned_gbc, plot='feature')"
   ]
  },
  {
   "cell_type": "markdown",
   "metadata": {
    "colab_type": "text",
    "id": "FfWC3NEhEQr9"
   },
   "source": [
    "### 10.4 Matriz de confusão (Confusion matrix)"
   ]
  },
  {
   "cell_type": "code",
   "execution_count": 23,
   "metadata": {
    "colab": {},
    "colab_type": "code",
    "id": "OAB5mes-EQsA",
    "outputId": "bd82130d-2cc3-4b63-df5d-03b7aa54bf52"
   },
   "outputs": [
    {
     "data": {
      "text/html": [],
      "text/plain": [
       "<IPython.core.display.HTML object>"
      ]
     },
     "metadata": {},
     "output_type": "display_data"
    },
    {
     "data": {
      "image/png": "[encoded data removed]",
      "text/plain": [
       "<Figure size 800x550 with 1 Axes>"
      ]
     },
     "metadata": {},
     "output_type": "display_data"
    }
   ],
   "source": [
    "plot_model(tuned_gbc, plot = 'confusion_matrix')"
   ]
  },
  {
   "cell_type": "code",
   "execution_count": 24,
   "metadata": {
    "colab": {
     "base_uri": "https://localhost:8080/",
     "height": 436,
     "referenced_widgets": [
      "42d5400d235d40b78190016ef0dabe11",
      "41031579127f4a53b58957e601465083",
      "12bf8b3c6ae8444a900474912589fdf1",
      "9bb3600d38c04691b444ff375ad5e3f5",
      "8886001bc7c1463ba58a8453f5c55073",
      "0a06fb091bd94ce6b6ab892e2c6faadf",
      "3cc1e83b91f34b289c7d52003f20a97a",
      "8d709ec9ec484944b1f9773748857f84",
      "8399e21b17634116861a5abaa9c0ccf7",
      "d5b6fce1763b4b54898ff3397b0f5bb0",
      "57b94ac505d142769b79de2f1e5c1166",
      "2a81017413ca4fe789c2272a5831a069",
      "02771b4dc3284414ab05df1906f4556b",
      "9e338844e75b4e17be8483529f5f38fd",
      "22588a12c0db4067982e62ebbe7e6930"
     ]
    },
    "colab_type": "code",
    "id": "OcLV1Ln6EQsN",
    "outputId": "7b5b8b4e-8d4a-4371-9a4f-cabb0a96265a"
   },
   "outputs": [
    {
     "data": {
      "application/vnd.jupyter.widget-view+json": {
       "model_id": "48696a57b8b04cf88cb7dd4a3ad92204",
       "version_major": 2,
       "version_minor": 0
      },
      "text/plain": [
       "interactive(children=(ToggleButtons(description='Plot Type:', icons=('',), options=(('Pipeline Plot', 'pipelin…"
      ]
     },
     "metadata": {},
     "output_type": "display_data"
    }
   ],
   "source": [
    "evaluate_model(tuned_gbc)"
   ]
  },
  {
   "cell_type": "markdown",
   "metadata": {
    "colab_type": "text",
    "id": "RX5pYUJJEQsV"
   },
   "source": [
    "# Predict na amostra de validação / hold-out"
   ]
  },
  {
   "cell_type": "code",
   "execution_count": 25,
   "metadata": {
    "colab": {},
    "colab_type": "code",
    "id": "nwaZk6oTEQsi",
    "outputId": "d30c8533-d347-4fa6-f18e-5b2abc937bec"
   },
   "outputs": [
    {
     "data": {
      "text/html": [
       "<style type=\"text/css\">\n",
       "</style>\n",
       "<table id=\"T_bc6f0\">\n",
       "  <thead>\n",
       "    <tr>\n",
       "      <th class=\"blank level0\" >&nbsp;</th>\n",
       "      <th id=\"T_bc6f0_level0_col0\" class=\"col_heading level0 col0\" >Model</th>\n",
       "      <th id=\"T_bc6f0_level0_col1\" class=\"col_heading level0 col1\" >Accuracy</th>\n",
       "      <th id=\"T_bc6f0_level0_col2\" class=\"col_heading level0 col2\" >AUC</th>\n",
       "      <th id=\"T_bc6f0_level0_col3\" class=\"col_heading level0 col3\" >Recall</th>\n",
       "      <th id=\"T_bc6f0_level0_col4\" class=\"col_heading level0 col4\" >Prec.</th>\n",
       "      <th id=\"T_bc6f0_level0_col5\" class=\"col_heading level0 col5\" >F1</th>\n",
       "      <th id=\"T_bc6f0_level0_col6\" class=\"col_heading level0 col6\" >Kappa</th>\n",
       "      <th id=\"T_bc6f0_level0_col7\" class=\"col_heading level0 col7\" >MCC</th>\n",
       "    </tr>\n",
       "  </thead>\n",
       "  <tbody>\n",
       "    <tr>\n",
       "      <th id=\"T_bc6f0_level0_row0\" class=\"row_heading level0 row0\" >0</th>\n",
       "      <td id=\"T_bc6f0_row0_col0\" class=\"data row0 col0\" >Gradient Boosting Classifier</td>\n",
       "      <td id=\"T_bc6f0_row0_col1\" class=\"data row0 col1\" >0.9027</td>\n",
       "      <td id=\"T_bc6f0_row0_col2\" class=\"data row0 col2\" >0.6941</td>\n",
       "      <td id=\"T_bc6f0_row0_col3\" class=\"data row0 col3\" >0.1004</td>\n",
       "      <td id=\"T_bc6f0_row0_col4\" class=\"data row0 col4\" >0.2263</td>\n",
       "      <td id=\"T_bc6f0_row0_col5\" class=\"data row0 col5\" >0.1391</td>\n",
       "      <td id=\"T_bc6f0_row0_col6\" class=\"data row0 col6\" >0.0956</td>\n",
       "      <td id=\"T_bc6f0_row0_col7\" class=\"data row0 col7\" >0.1046</td>\n",
       "    </tr>\n",
       "  </tbody>\n",
       "</table>\n"
      ],
      "text/plain": [
       "<pandas.io.formats.style.Styler at 0x237d53e6250>"
      ]
     },
     "metadata": {},
     "output_type": "display_data"
    }
   ],
   "source": [
    "predict_model(tuned_gbc);"
   ]
  },
  {
   "cell_type": "markdown",
   "metadata": {
    "colab_type": "text",
    "id": "r79BGjIfEQs1"
   },
   "source": [
    "# Finalizando o modelo para deploy"
   ]
  },
  {
   "cell_type": "code",
   "execution_count": 26,
   "metadata": {
    "colab": {},
    "colab_type": "code",
    "id": "_--tO4KGEQs-"
   },
   "outputs": [],
   "source": [
    "final_gbc = finalize_model(tuned_gbc)"
   ]
  },
  {
   "cell_type": "code",
   "execution_count": 27,
   "metadata": {
    "colab": {
     "base_uri": "https://localhost:8080/",
     "height": 147
    },
    "colab_type": "code",
    "id": "U9W6kXsSEQtQ",
    "outputId": "794b24a4-9c95-4730-eddd-f82e4925b866"
   },
   "outputs": [
    {
     "name": "stdout",
     "output_type": "stream",
     "text": [
      "Pipeline(memory=Memory(location=None),\n",
      "         steps=[('numerical_imputer',\n",
      "                 TransformerWrapper(exclude=None,\n",
      "                                    include=['qtd_filhos', 'idade',\n",
      "                                             'tempo_emprego',\n",
      "                                             'qt_pessoas_residencia', 'renda'],\n",
      "                                    transformer=SimpleImputer(add_indicator=False,\n",
      "                                                              copy=True,\n",
      "                                                              fill_value=None,\n",
      "                                                              keep_empty_features=False,\n",
      "                                                              missing_values=nan,\n",
      "                                                              strategy='mean'))),\n",
      "                ('categorical_imputer',\n",
      "                 TransformerWra...\n",
      "                                            criterion='friedman_mse', init=None,\n",
      "                                            learning_rate=0.4, loss='log_loss',\n",
      "                                            max_depth=8, max_features='sqrt',\n",
      "                                            max_leaf_nodes=None,\n",
      "                                            min_impurity_decrease=0.05,\n",
      "                                            min_samples_leaf=2,\n",
      "                                            min_samples_split=9,\n",
      "                                            min_weight_fraction_leaf=0.0,\n",
      "                                            n_estimators=30,\n",
      "                                            n_iter_no_change=None,\n",
      "                                            random_state=123, subsample=0.2,\n",
      "                                            tol=0.0001, validation_fraction=0.1,\n",
      "                                            verbose=0, warm_start=False))],\n",
      "         verbose=False)\n"
     ]
    }
   ],
   "source": [
    "#Parâmetros finais do modelo Random Forest para deploy\n",
    "print(final_gbc)"
   ]
  },
  {
   "cell_type": "code",
   "execution_count": 28,
   "metadata": {
    "colab": {},
    "colab_type": "code",
    "id": "NJDk3I-EEQtg",
    "outputId": "4d75663a-e86f-4826-c8e4-c9aa722648df"
   },
   "outputs": [
    {
     "data": {
      "text/html": [
       "<style type=\"text/css\">\n",
       "</style>\n",
       "<table id=\"T_ddd0a\">\n",
       "  <thead>\n",
       "    <tr>\n",
       "      <th class=\"blank level0\" >&nbsp;</th>\n",
       "      <th id=\"T_ddd0a_level0_col0\" class=\"col_heading level0 col0\" >Model</th>\n",
       "      <th id=\"T_ddd0a_level0_col1\" class=\"col_heading level0 col1\" >Accuracy</th>\n",
       "      <th id=\"T_ddd0a_level0_col2\" class=\"col_heading level0 col2\" >AUC</th>\n",
       "      <th id=\"T_ddd0a_level0_col3\" class=\"col_heading level0 col3\" >Recall</th>\n",
       "      <th id=\"T_ddd0a_level0_col4\" class=\"col_heading level0 col4\" >Prec.</th>\n",
       "      <th id=\"T_ddd0a_level0_col5\" class=\"col_heading level0 col5\" >F1</th>\n",
       "      <th id=\"T_ddd0a_level0_col6\" class=\"col_heading level0 col6\" >Kappa</th>\n",
       "      <th id=\"T_ddd0a_level0_col7\" class=\"col_heading level0 col7\" >MCC</th>\n",
       "    </tr>\n",
       "  </thead>\n",
       "  <tbody>\n",
       "    <tr>\n",
       "      <th id=\"T_ddd0a_level0_row0\" class=\"row_heading level0 row0\" >0</th>\n",
       "      <td id=\"T_ddd0a_row0_col0\" class=\"data row0 col0\" >Gradient Boosting Classifier</td>\n",
       "      <td id=\"T_ddd0a_row0_col1\" class=\"data row0 col1\" >0.9159</td>\n",
       "      <td id=\"T_ddd0a_row0_col2\" class=\"data row0 col2\" >0.7688</td>\n",
       "      <td id=\"T_ddd0a_row0_col3\" class=\"data row0 col3\" >0.1345</td>\n",
       "      <td id=\"T_ddd0a_row0_col4\" class=\"data row0 col4\" >0.3916</td>\n",
       "      <td id=\"T_ddd0a_row0_col5\" class=\"data row0 col5\" >0.2003</td>\n",
       "      <td id=\"T_ddd0a_row0_col6\" class=\"data row0 col6\" >0.1669</td>\n",
       "      <td id=\"T_ddd0a_row0_col7\" class=\"data row0 col7\" >0.1939</td>\n",
       "    </tr>\n",
       "  </tbody>\n",
       "</table>\n"
      ],
      "text/plain": [
       "<pandas.io.formats.style.Styler at 0x237d59cb290>"
      ]
     },
     "metadata": {},
     "output_type": "display_data"
    }
   ],
   "source": [
    "predict_model(final_gbc);"
   ]
  },
  {
   "cell_type": "markdown",
   "metadata": {
    "colab_type": "text",
    "id": "hUzc6tXNEQtr"
   },
   "source": [
    "# Predizendo o conjunto de dados que não foi usado no treino"
   ]
  },
  {
   "cell_type": "code",
   "execution_count": 29,
   "metadata": {
    "colab": {
     "base_uri": "https://localhost:8080/",
     "height": 211
    },
    "colab_type": "code",
    "id": "0y5KWLC6EQtx",
    "outputId": "30771f87-7847-43ce-e984-9963cff7d043"
   },
   "outputs": [
    {
     "data": {
      "text/html": [
       "<style type=\"text/css\">\n",
       "</style>\n",
       "<table id=\"T_c9023\">\n",
       "  <thead>\n",
       "    <tr>\n",
       "      <th class=\"blank level0\" >&nbsp;</th>\n",
       "      <th id=\"T_c9023_level0_col0\" class=\"col_heading level0 col0\" >Model</th>\n",
       "      <th id=\"T_c9023_level0_col1\" class=\"col_heading level0 col1\" >Accuracy</th>\n",
       "      <th id=\"T_c9023_level0_col2\" class=\"col_heading level0 col2\" >AUC</th>\n",
       "      <th id=\"T_c9023_level0_col3\" class=\"col_heading level0 col3\" >Recall</th>\n",
       "      <th id=\"T_c9023_level0_col4\" class=\"col_heading level0 col4\" >Prec.</th>\n",
       "      <th id=\"T_c9023_level0_col5\" class=\"col_heading level0 col5\" >F1</th>\n",
       "      <th id=\"T_c9023_level0_col6\" class=\"col_heading level0 col6\" >Kappa</th>\n",
       "      <th id=\"T_c9023_level0_col7\" class=\"col_heading level0 col7\" >MCC</th>\n",
       "    </tr>\n",
       "  </thead>\n",
       "  <tbody>\n",
       "    <tr>\n",
       "      <th id=\"T_c9023_level0_row0\" class=\"row_heading level0 row0\" >0</th>\n",
       "      <td id=\"T_c9023_row0_col0\" class=\"data row0 col0\" >Gradient Boosting Classifier</td>\n",
       "      <td id=\"T_c9023_row0_col1\" class=\"data row0 col1\" >0.9080</td>\n",
       "      <td id=\"T_c9023_row0_col2\" class=\"data row0 col2\" >0.6794</td>\n",
       "      <td id=\"T_c9023_row0_col3\" class=\"data row0 col3\" >0.0732</td>\n",
       "      <td id=\"T_c9023_row0_col4\" class=\"data row0 col4\" >0.2727</td>\n",
       "      <td id=\"T_c9023_row0_col5\" class=\"data row0 col5\" >0.1154</td>\n",
       "      <td id=\"T_c9023_row0_col6\" class=\"data row0 col6\" >0.0836</td>\n",
       "      <td id=\"T_c9023_row0_col7\" class=\"data row0 col7\" >0.1043</td>\n",
       "    </tr>\n",
       "  </tbody>\n",
       "</table>\n"
      ],
      "text/plain": [
       "<pandas.io.formats.style.Styler at 0x237d4febf50>"
      ]
     },
     "metadata": {},
     "output_type": "display_data"
    },
    {
     "data": {
      "text/html": [
       "<div>\n",
       "<style scoped>\n",
       "    .dataframe tbody tr th:only-of-type {\n",
       "        vertical-align: middle;\n",
       "    }\n",
       "\n",
       "    .dataframe tbody tr th {\n",
       "        vertical-align: top;\n",
       "    }\n",
       "\n",
       "    .dataframe thead th {\n",
       "        text-align: right;\n",
       "    }\n",
       "</style>\n",
       "<table border=\"1\" class=\"dataframe\">\n",
       "  <thead>\n",
       "    <tr style=\"text-align: right;\">\n",
       "      <th></th>\n",
       "      <th>sexo</th>\n",
       "      <th>posse_de_veiculo</th>\n",
       "      <th>posse_de_imovel</th>\n",
       "      <th>qtd_filhos</th>\n",
       "      <th>tipo_renda</th>\n",
       "      <th>educacao</th>\n",
       "      <th>estado_civil</th>\n",
       "      <th>tipo_residencia</th>\n",
       "      <th>idade</th>\n",
       "      <th>tempo_emprego</th>\n",
       "      <th>qt_pessoas_residencia</th>\n",
       "      <th>renda</th>\n",
       "      <th>mau</th>\n",
       "      <th>prediction_label</th>\n",
       "      <th>prediction_score</th>\n",
       "    </tr>\n",
       "  </thead>\n",
       "  <tbody>\n",
       "    <tr>\n",
       "      <th>0</th>\n",
       "      <td>F</td>\n",
       "      <td>N</td>\n",
       "      <td>S</td>\n",
       "      <td>0</td>\n",
       "      <td>Assalariado</td>\n",
       "      <td>Médio</td>\n",
       "      <td>Casado</td>\n",
       "      <td>Casa</td>\n",
       "      <td>42</td>\n",
       "      <td>0.775342</td>\n",
       "      <td>2.0</td>\n",
       "      <td>3865.850098</td>\n",
       "      <td>False</td>\n",
       "      <td>0</td>\n",
       "      <td>0.9235</td>\n",
       "    </tr>\n",
       "    <tr>\n",
       "      <th>1</th>\n",
       "      <td>M</td>\n",
       "      <td>S</td>\n",
       "      <td>N</td>\n",
       "      <td>0</td>\n",
       "      <td>Empresário</td>\n",
       "      <td>Médio</td>\n",
       "      <td>Casado</td>\n",
       "      <td>Casa</td>\n",
       "      <td>48</td>\n",
       "      <td>6.805480</td>\n",
       "      <td>2.0</td>\n",
       "      <td>2463.350098</td>\n",
       "      <td>False</td>\n",
       "      <td>0</td>\n",
       "      <td>0.9445</td>\n",
       "    </tr>\n",
       "    <tr>\n",
       "      <th>2</th>\n",
       "      <td>F</td>\n",
       "      <td>S</td>\n",
       "      <td>S</td>\n",
       "      <td>0</td>\n",
       "      <td>Assalariado</td>\n",
       "      <td>Superior completo</td>\n",
       "      <td>Casado</td>\n",
       "      <td>Casa</td>\n",
       "      <td>42</td>\n",
       "      <td>13.243835</td>\n",
       "      <td>2.0</td>\n",
       "      <td>62864.558594</td>\n",
       "      <td>False</td>\n",
       "      <td>0</td>\n",
       "      <td>0.9867</td>\n",
       "    </tr>\n",
       "    <tr>\n",
       "      <th>3</th>\n",
       "      <td>M</td>\n",
       "      <td>N</td>\n",
       "      <td>N</td>\n",
       "      <td>0</td>\n",
       "      <td>Assalariado</td>\n",
       "      <td>Médio</td>\n",
       "      <td>Casado</td>\n",
       "      <td>Casa</td>\n",
       "      <td>51</td>\n",
       "      <td>23.679453</td>\n",
       "      <td>2.0</td>\n",
       "      <td>8289.169922</td>\n",
       "      <td>False</td>\n",
       "      <td>0</td>\n",
       "      <td>0.9809</td>\n",
       "    </tr>\n",
       "    <tr>\n",
       "      <th>4</th>\n",
       "      <td>F</td>\n",
       "      <td>N</td>\n",
       "      <td>S</td>\n",
       "      <td>0</td>\n",
       "      <td>Servidor público</td>\n",
       "      <td>Médio</td>\n",
       "      <td>União</td>\n",
       "      <td>Casa</td>\n",
       "      <td>35</td>\n",
       "      <td>8.912329</td>\n",
       "      <td>2.0</td>\n",
       "      <td>9151.269531</td>\n",
       "      <td>False</td>\n",
       "      <td>0</td>\n",
       "      <td>0.9619</td>\n",
       "    </tr>\n",
       "  </tbody>\n",
       "</table>\n",
       "</div>"
      ],
      "text/plain": [
       "  sexo posse_de_veiculo posse_de_imovel  qtd_filhos        tipo_renda  \\\n",
       "0    F                N               S           0       Assalariado   \n",
       "1    M                S               N           0        Empresário   \n",
       "2    F                S               S           0       Assalariado   \n",
       "3    M                N               N           0       Assalariado   \n",
       "4    F                N               S           0  Servidor público   \n",
       "\n",
       "            educacao estado_civil tipo_residencia  idade  tempo_emprego  \\\n",
       "0              Médio       Casado            Casa     42       0.775342   \n",
       "1              Médio       Casado            Casa     48       6.805480   \n",
       "2  Superior completo       Casado            Casa     42      13.243835   \n",
       "3              Médio       Casado            Casa     51      23.679453   \n",
       "4              Médio        União            Casa     35       8.912329   \n",
       "\n",
       "   qt_pessoas_residencia         renda    mau  prediction_label  \\\n",
       "0                    2.0   3865.850098  False                 0   \n",
       "1                    2.0   2463.350098  False                 0   \n",
       "2                    2.0  62864.558594  False                 0   \n",
       "3                    2.0   8289.169922  False                 0   \n",
       "4                    2.0   9151.269531  False                 0   \n",
       "\n",
       "   prediction_score  \n",
       "0            0.9235  \n",
       "1            0.9445  \n",
       "2            0.9867  \n",
       "3            0.9809  \n",
       "4            0.9619  "
      ]
     },
     "execution_count": 29,
     "metadata": {},
     "output_type": "execute_result"
    }
   ],
   "source": [
    "unseen_predictions = predict_model(final_gbc, data=data_unseen)\n",
    "unseen_predictions.head()"
   ]
  },
  {
   "cell_type": "code",
   "execution_count": 30,
   "metadata": {},
   "outputs": [
    {
     "data": {
      "text/plain": [
       "sexo                     category\n",
       "posse_de_veiculo         category\n",
       "posse_de_imovel          category\n",
       "qtd_filhos                   int8\n",
       "tipo_renda               category\n",
       "educacao                 category\n",
       "estado_civil             category\n",
       "tipo_residencia          category\n",
       "idade                        int8\n",
       "tempo_emprego             float32\n",
       "qt_pessoas_residencia     float32\n",
       "renda                     float32\n",
       "mau                          bool\n",
       "prediction_label            int32\n",
       "prediction_score          float64\n",
       "dtype: object"
      ]
     },
     "execution_count": 30,
     "metadata": {},
     "output_type": "execute_result"
    }
   ],
   "source": [
    "unseen_predictions.dtypes"
   ]
  },
  {
   "cell_type": "markdown",
   "metadata": {
    "colab_type": "text",
    "id": "L__po3sUEQt7"
   },
   "source": [
    "# Salvando o modelo final"
   ]
  },
  {
   "cell_type": "code",
   "execution_count": 37,
   "metadata": {
    "colab": {},
    "colab_type": "code",
    "id": "ln1YWIXTEQuA",
    "outputId": "d3cb0652-f72e-44e8-9455-824b12740bff"
   },
   "outputs": [
    {
     "name": "stdout",
     "output_type": "stream",
     "text": [
      "Transformation Pipeline and Model Successfully Saved\n"
     ]
    },
    {
     "data": {
      "text/plain": [
       "(Pipeline(memory=Memory(location=None),\n",
       "          steps=[('numerical_imputer',\n",
       "                  TransformerWrapper(exclude=None,\n",
       "                                     include=['qtd_filhos', 'idade',\n",
       "                                              'tempo_emprego',\n",
       "                                              'qt_pessoas_residencia', 'renda'],\n",
       "                                     transformer=SimpleImputer(add_indicator=False,\n",
       "                                                               copy=True,\n",
       "                                                               fill_value=None,\n",
       "                                                               keep_empty_features=False,\n",
       "                                                               missing_values=nan,\n",
       "                                                               strategy='mean'))),\n",
       "                 ('categorical_imputer',\n",
       "                  TransformerWra...\n",
       "                                             criterion='friedman_mse', init=None,\n",
       "                                             learning_rate=0.4, loss='log_loss',\n",
       "                                             max_depth=8, max_features='sqrt',\n",
       "                                             max_leaf_nodes=None,\n",
       "                                             min_impurity_decrease=0.05,\n",
       "                                             min_samples_leaf=2,\n",
       "                                             min_samples_split=9,\n",
       "                                             min_weight_fraction_leaf=0.0,\n",
       "                                             n_estimators=30,\n",
       "                                             n_iter_no_change=None,\n",
       "                                             random_state=123, subsample=0.2,\n",
       "                                             tol=0.0001, validation_fraction=0.1,\n",
       "                                             verbose=0, warm_start=False))],\n",
       "          verbose=False),\n",
       " 'model_final_victor_tintel.pkl.pkl')"
      ]
     },
     "execution_count": 37,
     "metadata": {},
     "output_type": "execute_result"
    }
   ],
   "source": [
    "save_model(final_gbc,'model_final_victor_tintel.pkl')"
   ]
  },
  {
   "cell_type": "markdown",
   "metadata": {
    "colab_type": "text",
    "id": "WE6f48AYEQuR"
   },
   "source": [
    "(DICA: É sempre bom usar data no nome do arquivo ao salvar modelos, é bom para controle de versão.)"
   ]
  },
  {
   "cell_type": "markdown",
   "metadata": {
    "colab_type": "text",
    "id": "Z8OBesfkEQuU"
   },
   "source": [
    "# Carregando o modelo salvo"
   ]
  },
  {
   "cell_type": "markdown",
   "metadata": {
    "colab_type": "text",
    "id": "V2K_WLaaEQuW"
   },
   "source": [
    "Para carregar um modelo salvo em uma data futura no mesmo ambiente ou em um ambiente alternativo, usaríamos a função `load_model()` do PyCaret e, em seguida, aplicaríamos facilmente o modelo salvo em novos dados não vistos para previsão."
   ]
  },
  {
   "cell_type": "code",
   "execution_count": 38,
   "metadata": {
    "colab": {},
    "colab_type": "code",
    "id": "Siw_2EIUEQub",
    "outputId": "5da8b7c9-01f7-469c-f0c9-b19c8ce11bcc"
   },
   "outputs": [
    {
     "name": "stdout",
     "output_type": "stream",
     "text": [
      "Transformation Pipeline and Model Successfully Loaded\n"
     ]
    }
   ],
   "source": [
    "saved_final_gbc = load_model('Final GBC Model 02Jun2022')"
   ]
  },
  {
   "cell_type": "markdown",
   "metadata": {
    "colab_type": "text",
    "id": "1zyi6-Q-EQuq"
   },
   "source": [
    "Uma vez que o modelo é carregado no ambiente, você pode simplesmente usá-lo para prever quaisquer novos dados usando a mesma função `predict_model()`. Abaixo, aplicamos o modelo carregado para prever o mesmo `data_unseen` que usamos na seção 13 acima."
   ]
  },
  {
   "cell_type": "code",
   "execution_count": 39,
   "metadata": {
    "colab": {},
    "colab_type": "code",
    "id": "HMPO1ka9EQut"
   },
   "outputs": [
    {
     "data": {
      "text/html": [
       "<style type=\"text/css\">\n",
       "</style>\n",
       "<table id=\"T_587d2\">\n",
       "  <thead>\n",
       "    <tr>\n",
       "      <th class=\"blank level0\" >&nbsp;</th>\n",
       "      <th id=\"T_587d2_level0_col0\" class=\"col_heading level0 col0\" >Model</th>\n",
       "      <th id=\"T_587d2_level0_col1\" class=\"col_heading level0 col1\" >Accuracy</th>\n",
       "      <th id=\"T_587d2_level0_col2\" class=\"col_heading level0 col2\" >AUC</th>\n",
       "      <th id=\"T_587d2_level0_col3\" class=\"col_heading level0 col3\" >Recall</th>\n",
       "      <th id=\"T_587d2_level0_col4\" class=\"col_heading level0 col4\" >Prec.</th>\n",
       "      <th id=\"T_587d2_level0_col5\" class=\"col_heading level0 col5\" >F1</th>\n",
       "      <th id=\"T_587d2_level0_col6\" class=\"col_heading level0 col6\" >Kappa</th>\n",
       "      <th id=\"T_587d2_level0_col7\" class=\"col_heading level0 col7\" >MCC</th>\n",
       "    </tr>\n",
       "  </thead>\n",
       "  <tbody>\n",
       "    <tr>\n",
       "      <th id=\"T_587d2_level0_row0\" class=\"row_heading level0 row0\" >0</th>\n",
       "      <td id=\"T_587d2_row0_col0\" class=\"data row0 col0\" >Gradient Boosting Classifier</td>\n",
       "      <td id=\"T_587d2_row0_col1\" class=\"data row0 col1\" >0.9080</td>\n",
       "      <td id=\"T_587d2_row0_col2\" class=\"data row0 col2\" >0.6794</td>\n",
       "      <td id=\"T_587d2_row0_col3\" class=\"data row0 col3\" >0.0732</td>\n",
       "      <td id=\"T_587d2_row0_col4\" class=\"data row0 col4\" >0.2727</td>\n",
       "      <td id=\"T_587d2_row0_col5\" class=\"data row0 col5\" >0.1154</td>\n",
       "      <td id=\"T_587d2_row0_col6\" class=\"data row0 col6\" >0.0836</td>\n",
       "      <td id=\"T_587d2_row0_col7\" class=\"data row0 col7\" >0.1043</td>\n",
       "    </tr>\n",
       "  </tbody>\n",
       "</table>\n"
      ],
      "text/plain": [
       "<pandas.io.formats.style.Styler at 0x237a5876450>"
      ]
     },
     "metadata": {},
     "output_type": "display_data"
    }
   ],
   "source": [
    "new_prediction = predict_model(saved_final_gbc, data=data_unseen)"
   ]
  },
  {
   "cell_type": "code",
   "execution_count": 40,
   "metadata": {
    "colab": {},
    "colab_type": "code",
    "id": "7wyDQQSzEQu8",
    "outputId": "23065436-42e3-4441-ed58-a8863f8971f9"
   },
   "outputs": [
    {
     "data": {
      "text/html": [
       "<div>\n",
       "<style scoped>\n",
       "    .dataframe tbody tr th:only-of-type {\n",
       "        vertical-align: middle;\n",
       "    }\n",
       "\n",
       "    .dataframe tbody tr th {\n",
       "        vertical-align: top;\n",
       "    }\n",
       "\n",
       "    .dataframe thead th {\n",
       "        text-align: right;\n",
       "    }\n",
       "</style>\n",
       "<table border=\"1\" class=\"dataframe\">\n",
       "  <thead>\n",
       "    <tr style=\"text-align: right;\">\n",
       "      <th></th>\n",
       "      <th>sexo</th>\n",
       "      <th>posse_de_veiculo</th>\n",
       "      <th>posse_de_imovel</th>\n",
       "      <th>qtd_filhos</th>\n",
       "      <th>tipo_renda</th>\n",
       "      <th>educacao</th>\n",
       "      <th>estado_civil</th>\n",
       "      <th>tipo_residencia</th>\n",
       "      <th>idade</th>\n",
       "      <th>tempo_emprego</th>\n",
       "      <th>qt_pessoas_residencia</th>\n",
       "      <th>renda</th>\n",
       "      <th>mau</th>\n",
       "      <th>prediction_label</th>\n",
       "      <th>prediction_score</th>\n",
       "    </tr>\n",
       "  </thead>\n",
       "  <tbody>\n",
       "    <tr>\n",
       "      <th>0</th>\n",
       "      <td>F</td>\n",
       "      <td>N</td>\n",
       "      <td>S</td>\n",
       "      <td>0</td>\n",
       "      <td>Assalariado</td>\n",
       "      <td>Médio</td>\n",
       "      <td>Casado</td>\n",
       "      <td>Casa</td>\n",
       "      <td>42</td>\n",
       "      <td>0.775342</td>\n",
       "      <td>2.0</td>\n",
       "      <td>3865.850098</td>\n",
       "      <td>False</td>\n",
       "      <td>0</td>\n",
       "      <td>0.9235</td>\n",
       "    </tr>\n",
       "    <tr>\n",
       "      <th>1</th>\n",
       "      <td>M</td>\n",
       "      <td>S</td>\n",
       "      <td>N</td>\n",
       "      <td>0</td>\n",
       "      <td>Empresário</td>\n",
       "      <td>Médio</td>\n",
       "      <td>Casado</td>\n",
       "      <td>Casa</td>\n",
       "      <td>48</td>\n",
       "      <td>6.805480</td>\n",
       "      <td>2.0</td>\n",
       "      <td>2463.350098</td>\n",
       "      <td>False</td>\n",
       "      <td>0</td>\n",
       "      <td>0.9445</td>\n",
       "    </tr>\n",
       "    <tr>\n",
       "      <th>2</th>\n",
       "      <td>F</td>\n",
       "      <td>S</td>\n",
       "      <td>S</td>\n",
       "      <td>0</td>\n",
       "      <td>Assalariado</td>\n",
       "      <td>Superior completo</td>\n",
       "      <td>Casado</td>\n",
       "      <td>Casa</td>\n",
       "      <td>42</td>\n",
       "      <td>13.243835</td>\n",
       "      <td>2.0</td>\n",
       "      <td>62864.558594</td>\n",
       "      <td>False</td>\n",
       "      <td>0</td>\n",
       "      <td>0.9867</td>\n",
       "    </tr>\n",
       "    <tr>\n",
       "      <th>3</th>\n",
       "      <td>M</td>\n",
       "      <td>N</td>\n",
       "      <td>N</td>\n",
       "      <td>0</td>\n",
       "      <td>Assalariado</td>\n",
       "      <td>Médio</td>\n",
       "      <td>Casado</td>\n",
       "      <td>Casa</td>\n",
       "      <td>51</td>\n",
       "      <td>23.679453</td>\n",
       "      <td>2.0</td>\n",
       "      <td>8289.169922</td>\n",
       "      <td>False</td>\n",
       "      <td>0</td>\n",
       "      <td>0.9809</td>\n",
       "    </tr>\n",
       "    <tr>\n",
       "      <th>4</th>\n",
       "      <td>F</td>\n",
       "      <td>N</td>\n",
       "      <td>S</td>\n",
       "      <td>0</td>\n",
       "      <td>Servidor público</td>\n",
       "      <td>Médio</td>\n",
       "      <td>União</td>\n",
       "      <td>Casa</td>\n",
       "      <td>35</td>\n",
       "      <td>8.912329</td>\n",
       "      <td>2.0</td>\n",
       "      <td>9151.269531</td>\n",
       "      <td>False</td>\n",
       "      <td>0</td>\n",
       "      <td>0.9619</td>\n",
       "    </tr>\n",
       "  </tbody>\n",
       "</table>\n",
       "</div>"
      ],
      "text/plain": [
       "  sexo posse_de_veiculo posse_de_imovel  qtd_filhos        tipo_renda  \\\n",
       "0    F                N               S           0       Assalariado   \n",
       "1    M                S               N           0        Empresário   \n",
       "2    F                S               S           0       Assalariado   \n",
       "3    M                N               N           0       Assalariado   \n",
       "4    F                N               S           0  Servidor público   \n",
       "\n",
       "            educacao estado_civil tipo_residencia  idade  tempo_emprego  \\\n",
       "0              Médio       Casado            Casa     42       0.775342   \n",
       "1              Médio       Casado            Casa     48       6.805480   \n",
       "2  Superior completo       Casado            Casa     42      13.243835   \n",
       "3              Médio       Casado            Casa     51      23.679453   \n",
       "4              Médio        União            Casa     35       8.912329   \n",
       "\n",
       "   qt_pessoas_residencia         renda    mau  prediction_label  \\\n",
       "0                    2.0   3865.850098  False                 0   \n",
       "1                    2.0   2463.350098  False                 0   \n",
       "2                    2.0  62864.558594  False                 0   \n",
       "3                    2.0   8289.169922  False                 0   \n",
       "4                    2.0   9151.269531  False                 0   \n",
       "\n",
       "   prediction_score  \n",
       "0            0.9235  \n",
       "1            0.9445  \n",
       "2            0.9867  \n",
       "3            0.9809  \n",
       "4            0.9619  "
      ]
     },
     "execution_count": 40,
     "metadata": {},
     "output_type": "execute_result"
    }
   ],
   "source": [
    "new_prediction.head()"
   ]
  },
  {
   "cell_type": "code",
   "execution_count": 42,
   "metadata": {},
   "outputs": [
    {
     "data": {
      "text/plain": [
       "{'numerical_imputer': TransformerWrapper(exclude=None,\n",
       "                    include=['qtd_filhos', 'idade', 'tempo_emprego',\n",
       "                             'qt_pessoas_residencia', 'renda'],\n",
       "                    transformer=SimpleImputer(add_indicator=False, copy=True,\n",
       "                                              fill_value=None,\n",
       "                                              keep_empty_features=False,\n",
       "                                              missing_values=nan,\n",
       "                                              strategy='mean')),\n",
       " 'categorical_imputer': TransformerWrapper(exclude=None,\n",
       "                    include=['sexo', 'posse_de_veiculo', 'posse_de_imovel',\n",
       "                             'tipo_renda', 'educacao', 'estado_civil',\n",
       "                             'tipo_residencia'],\n",
       "                    transformer=SimpleImputer(add_indicator=False, copy=True,\n",
       "                                              fill_value=None,\n",
       "                                              keep_empty_features=False,\n",
       "                                              missing_values=nan,\n",
       "                                              strategy='most_frequent')),\n",
       " 'ordinal_encoding': TransformerWrapper(exclude=None,\n",
       "                    include=['sexo', 'posse_de_veiculo', 'posse_de_imovel'],\n",
       "                    transformer=OrdinalEncoder(cols=['sexo', 'posse_de_veiculo',\n",
       "                                                     'posse_de_imovel'],\n",
       "                                               drop_invariant=False,\n",
       "                                               handle_missing='return_nan',\n",
       "                                               handle_unknown='value',\n",
       "                                               mapping=[{'col': 'sexo',\n",
       "                                                         'data_type': dtype('O'),\n",
       "                                                         'mapping': F      0\n",
       " M      1\n",
       " NaN   -1\n",
       " dtype: int64},\n",
       "                                                        {'col': 'posse_de_veiculo',\n",
       "                                                         'data_type': dtype('O'),\n",
       "                                                         'mapping': N      0\n",
       " S      1\n",
       " NaN   -1\n",
       " dtype: int64},\n",
       "                                                        {'col': 'posse_de_imovel',\n",
       "                                                         'data_type': dtype('O'),\n",
       "                                                         'mapping': N      0\n",
       " S      1\n",
       " NaN   -1\n",
       " dtype: int64}],\n",
       "                                               return_df=True, verbose=0)),\n",
       " 'onehot_encoding': TransformerWrapper(exclude=None,\n",
       "                    include=['tipo_renda', 'educacao', 'estado_civil',\n",
       "                             'tipo_residencia'],\n",
       "                    transformer=OneHotEncoder(cols=['tipo_renda', 'educacao',\n",
       "                                                    'estado_civil',\n",
       "                                                    'tipo_residencia'],\n",
       "                                              drop_invariant=False,\n",
       "                                              handle_missing='return_nan',\n",
       "                                              handle_unknown='value',\n",
       "                                              return_df=True, use_cat_names=True,\n",
       "                                              verbose=0)),\n",
       " 'actual_estimator': GradientBoostingClassifier(ccp_alpha=0.0, criterion='friedman_mse', init=None,\n",
       "                            learning_rate=0.4, loss='log_loss', max_depth=8,\n",
       "                            max_features='sqrt', max_leaf_nodes=None,\n",
       "                            min_impurity_decrease=0.05, min_samples_leaf=2,\n",
       "                            min_samples_split=9, min_weight_fraction_leaf=0.0,\n",
       "                            n_estimators=30, n_iter_no_change=None,\n",
       "                            random_state=123, subsample=0.2, tol=0.0001,\n",
       "                            validation_fraction=0.1, verbose=0,\n",
       "                            warm_start=False)}"
      ]
     },
     "execution_count": 42,
     "metadata": {},
     "output_type": "execute_result"
    }
   ],
   "source": [
    "saved_final_gbc.named_steps"
   ]
  },
  {
   "cell_type": "code",
   "execution_count": null,
   "metadata": {},
   "outputs": [],
   "source": []
  },
  {
   "cell_type": "code",
   "execution_count": null,
   "metadata": {},
   "outputs": [],
   "source": []
  }
 ],
 "metadata": {
  "colab": {
   "collapsed_sections": [
    "Ui_rALqYEQmv",
    "y9s9wNcjEQn0",
    "it_nJo1IEQob",
    "P5m2pciOEQo4",
    "UWMSeyNhEQo-",
    "rWUojqBCEQpb",
    "nSg3OUjuEQpu",
    "XvpjzbGQEQqB",
    "BQlMCxrUEQqG",
    "CD-f0delEQqq",
    "KO3zIfs-EQrA",
    "w_P46O0jEQrT",
    "euqkQYJaEQrY",
    "bwyoTUDQEQrm",
    "_r9rwEw7EQrz",
    "FfWC3NEhEQr9",
    "RX5pYUJJEQsV",
    "r79BGjIfEQs1",
    "hUzc6tXNEQtr",
    "L__po3sUEQt7",
    "Z8OBesfkEQuU",
    "_HeOs8BhEQvF"
   ],
   "name": "Binary Classification Tutorial (CLF101) - Level Beginner (ACN_EDITS).ipynb",
   "provenance": []
  },
  "kernelspec": {
   "display_name": "Python 3 (ipykernel)",
   "language": "python",
   "name": "python3"
  },
  "language_info": {
   "codemirror_mode": {
    "name": "ipython",
    "version": 3
   },
   "file_extension": ".py",
   "mimetype": "text/x-python",
   "name": "python",
   "nbconvert_exporter": "python",
   "pygments_lexer": "ipython3",
   "version": "3.11.7"
  },
  "varInspector": {
   "cols": {
    "lenName": 16,
    "lenType": 16,
    "lenVar": 40
   },
   "kernels_config": {
    "python": {
     "delete_cmd_postfix": "",
     "delete_cmd_prefix": "del ",
     "library": "var_list.py",
     "varRefreshCmd": "print(var_dic_list())"
    },
    "r": {
     "delete_cmd_postfix": ") ",
     "delete_cmd_prefix": "rm(",
     "library": "var_list.r",
     "varRefreshCmd": "cat(var_dic_list()) "
    }
   },
   "types_to_exclude": [
    "module",
    "function",
    "builtin_function_or_method",
    "instance",
    "_Feature"
   ],
   "window_display": false
  },
  "widgets": {
   "application/vnd.jupyter.widget-state+json": {
    "02771b4dc3284414ab05df1906f4556b": {
     "model_module": "@jupyter-widgets/controls",
     "model_name": "IntProgressModel",
     "state": {
      "_dom_classes": [],
      "_model_module": "@jupyter-widgets/controls",
      "_model_module_version": "1.5.0",
      "_model_name": "IntProgressModel",
      "_view_count": null,
      "_view_module": "@jupyter-widgets/controls",
      "_view_module_version": "1.5.0",
      "_view_name": "ProgressView",
      "bar_style": "",
      "description": "Processing: ",
      "description_tooltip": null,
      "layout": "IPY_MODEL_22588a12c0db4067982e62ebbe7e6930",
      "max": 5,
      "min": 0,
      "orientation": "horizontal",
      "style": "IPY_MODEL_9e338844e75b4e17be8483529f5f38fd",
      "value": 5
     }
    },
    "0a06fb091bd94ce6b6ab892e2c6faadf": {
     "model_module": "@jupyter-widgets/base",
     "model_name": "LayoutModel",
     "state": {
      "_model_module": "@jupyter-widgets/base",
      "_model_module_version": "1.2.0",
      "_model_name": "LayoutModel",
      "_view_count": null,
      "_view_module": "@jupyter-widgets/base",
      "_view_module_version": "1.2.0",
      "_view_name": "LayoutView",
      "align_content": null,
      "align_items": null,
      "align_self": null,
      "border": null,
      "bottom": null,
      "display": null,
      "flex": null,
      "flex_flow": null,
      "grid_area": null,
      "grid_auto_columns": null,
      "grid_auto_flow": null,
      "grid_auto_rows": null,
      "grid_column": null,
      "grid_gap": null,
      "grid_row": null,
      "grid_template_areas": null,
      "grid_template_columns": null,
      "grid_template_rows": null,
      "height": null,
      "justify_content": null,
      "justify_items": null,
      "left": null,
      "margin": null,
      "max_height": null,
      "max_width": null,
      "min_height": null,
      "min_width": null,
      "object_fit": null,
      "object_position": null,
      "order": null,
      "overflow": null,
      "overflow_x": null,
      "overflow_y": null,
      "padding": null,
      "right": null,
      "top": null,
      "visibility": null,
      "width": null
     }
    },
    "12bf8b3c6ae8444a900474912589fdf1": {
     "model_module": "@jupyter-widgets/controls",
     "model_name": "ToggleButtonsModel",
     "state": {
      "_dom_classes": [],
      "_model_module": "@jupyter-widgets/controls",
      "_model_module_version": "1.5.0",
      "_model_name": "ToggleButtonsModel",
      "_options_labels": [
       "Hyperparameters",
       "AUC",
       "Confusion Matrix",
       "Threshold",
       "Precision Recall",
       "Error",
       "Class Report",
       "Feature Selection",
       "Learning Curve",
       "Manifold Learning",
       "Calibration Curve",
       "Validation Curve",
       "Dimensions",
       "Feature Importance",
       "Decision Boundary"
      ],
      "_view_count": null,
      "_view_module": "@jupyter-widgets/controls",
      "_view_module_version": "1.5.0",
      "_view_name": "ToggleButtonsView",
      "button_style": "",
      "description": "Plot Type:",
      "description_tooltip": null,
      "disabled": false,
      "icons": [
       ""
      ],
      "index": 2,
      "layout": "IPY_MODEL_0a06fb091bd94ce6b6ab892e2c6faadf",
      "style": "IPY_MODEL_8886001bc7c1463ba58a8453f5c55073",
      "tooltips": []
     }
    },
    "22588a12c0db4067982e62ebbe7e6930": {
     "model_module": "@jupyter-widgets/base",
     "model_name": "LayoutModel",
     "state": {
      "_model_module": "@jupyter-widgets/base",
      "_model_module_version": "1.2.0",
      "_model_name": "LayoutModel",
      "_view_count": null,
      "_view_module": "@jupyter-widgets/base",
      "_view_module_version": "1.2.0",
      "_view_name": "LayoutView",
      "align_content": null,
      "align_items": null,
      "align_self": null,
      "border": null,
      "bottom": null,
      "display": null,
      "flex": null,
      "flex_flow": null,
      "grid_area": null,
      "grid_auto_columns": null,
      "grid_auto_flow": null,
      "grid_auto_rows": null,
      "grid_column": null,
      "grid_gap": null,
      "grid_row": null,
      "grid_template_areas": null,
      "grid_template_columns": null,
      "grid_template_rows": null,
      "height": null,
      "justify_content": null,
      "justify_items": null,
      "left": null,
      "margin": null,
      "max_height": null,
      "max_width": null,
      "min_height": null,
      "min_width": null,
      "object_fit": null,
      "object_position": null,
      "order": null,
      "overflow": null,
      "overflow_x": null,
      "overflow_y": null,
      "padding": null,
      "right": null,
      "top": null,
      "visibility": null,
      "width": null
     }
    },
    "2a81017413ca4fe789c2272a5831a069": {
     "model_module": "@jupyter-widgets/base",
     "model_name": "LayoutModel",
     "state": {
      "_model_module": "@jupyter-widgets/base",
      "_model_module_version": "1.2.0",
      "_model_name": "LayoutModel",
      "_view_count": null,
      "_view_module": "@jupyter-widgets/base",
      "_view_module_version": "1.2.0",
      "_view_name": "LayoutView",
      "align_content": null,
      "align_items": null,
      "align_self": null,
      "border": null,
      "bottom": null,
      "display": null,
      "flex": null,
      "flex_flow": null,
      "grid_area": null,
      "grid_auto_columns": null,
      "grid_auto_flow": null,
      "grid_auto_rows": null,
      "grid_column": null,
      "grid_gap": null,
      "grid_row": null,
      "grid_template_areas": null,
      "grid_template_columns": null,
      "grid_template_rows": null,
      "height": null,
      "justify_content": null,
      "justify_items": null,
      "left": null,
      "margin": null,
      "max_height": null,
      "max_width": null,
      "min_height": null,
      "min_width": null,
      "object_fit": null,
      "object_position": null,
      "order": null,
      "overflow": null,
      "overflow_x": null,
      "overflow_y": null,
      "padding": null,
      "right": null,
      "top": null,
      "visibility": null,
      "width": null
     }
    },
    "3cc1e83b91f34b289c7d52003f20a97a": {
     "model_module": "@jupyter-widgets/controls",
     "model_name": "IntProgressModel",
     "state": {
      "_dom_classes": [],
      "_model_module": "@jupyter-widgets/controls",
      "_model_module_version": "1.5.0",
      "_model_name": "IntProgressModel",
      "_view_count": null,
      "_view_module": "@jupyter-widgets/controls",
      "_view_module_version": "1.5.0",
      "_view_name": "ProgressView",
      "bar_style": "",
      "description": "Processing: ",
      "description_tooltip": null,
      "layout": "IPY_MODEL_8399e21b17634116861a5abaa9c0ccf7",
      "max": 5,
      "min": 0,
      "orientation": "horizontal",
      "style": "IPY_MODEL_8d709ec9ec484944b1f9773748857f84",
      "value": 2
     }
    },
    "41031579127f4a53b58957e601465083": {
     "model_module": "@jupyter-widgets/base",
     "model_name": "LayoutModel",
     "state": {
      "_model_module": "@jupyter-widgets/base",
      "_model_module_version": "1.2.0",
      "_model_name": "LayoutModel",
      "_view_count": null,
      "_view_module": "@jupyter-widgets/base",
      "_view_module_version": "1.2.0",
      "_view_name": "LayoutView",
      "align_content": null,
      "align_items": null,
      "align_self": null,
      "border": null,
      "bottom": null,
      "display": null,
      "flex": null,
      "flex_flow": null,
      "grid_area": null,
      "grid_auto_columns": null,
      "grid_auto_flow": null,
      "grid_auto_rows": null,
      "grid_column": null,
      "grid_gap": null,
      "grid_row": null,
      "grid_template_areas": null,
      "grid_template_columns": null,
      "grid_template_rows": null,
      "height": null,
      "justify_content": null,
      "justify_items": null,
      "left": null,
      "margin": null,
      "max_height": null,
      "max_width": null,
      "min_height": null,
      "min_width": null,
      "object_fit": null,
      "object_position": null,
      "order": null,
      "overflow": null,
      "overflow_x": null,
      "overflow_y": null,
      "padding": null,
      "right": null,
      "top": null,
      "visibility": null,
      "width": null
     }
    },
    "42d5400d235d40b78190016ef0dabe11": {
     "model_module": "@jupyter-widgets/controls",
     "model_name": "VBoxModel",
     "state": {
      "_dom_classes": [
       "widget-interact"
      ],
      "_model_module": "@jupyter-widgets/controls",
      "_model_module_version": "1.5.0",
      "_model_name": "VBoxModel",
      "_view_count": null,
      "_view_module": "@jupyter-widgets/controls",
      "_view_module_version": "1.5.0",
      "_view_name": "VBoxView",
      "box_style": "",
      "children": [
       "IPY_MODEL_12bf8b3c6ae8444a900474912589fdf1",
       "IPY_MODEL_9bb3600d38c04691b444ff375ad5e3f5"
      ],
      "layout": "IPY_MODEL_41031579127f4a53b58957e601465083"
     }
    },
    "57b94ac505d142769b79de2f1e5c1166": {
     "model_module": "@jupyter-widgets/controls",
     "model_name": "ProgressStyleModel",
     "state": {
      "_model_module": "@jupyter-widgets/controls",
      "_model_module_version": "1.5.0",
      "_model_name": "ProgressStyleModel",
      "_view_count": null,
      "_view_module": "@jupyter-widgets/base",
      "_view_module_version": "1.2.0",
      "_view_name": "StyleView",
      "bar_color": null,
      "description_width": ""
     }
    },
    "8399e21b17634116861a5abaa9c0ccf7": {
     "model_module": "@jupyter-widgets/base",
     "model_name": "LayoutModel",
     "state": {
      "_model_module": "@jupyter-widgets/base",
      "_model_module_version": "1.2.0",
      "_model_name": "LayoutModel",
      "_view_count": null,
      "_view_module": "@jupyter-widgets/base",
      "_view_module_version": "1.2.0",
      "_view_name": "LayoutView",
      "align_content": null,
      "align_items": null,
      "align_self": null,
      "border": null,
      "bottom": null,
      "display": null,
      "flex": null,
      "flex_flow": null,
      "grid_area": null,
      "grid_auto_columns": null,
      "grid_auto_flow": null,
      "grid_auto_rows": null,
      "grid_column": null,
      "grid_gap": null,
      "grid_row": null,
      "grid_template_areas": null,
      "grid_template_columns": null,
      "grid_template_rows": null,
      "height": null,
      "justify_content": null,
      "justify_items": null,
      "left": null,
      "margin": null,
      "max_height": null,
      "max_width": null,
      "min_height": null,
      "min_width": null,
      "object_fit": null,
      "object_position": null,
      "order": null,
      "overflow": null,
      "overflow_x": null,
      "overflow_y": null,
      "padding": null,
      "right": null,
      "top": null,
      "visibility": null,
      "width": null
     }
    },
    "8886001bc7c1463ba58a8453f5c55073": {
     "model_module": "@jupyter-widgets/controls",
     "model_name": "ToggleButtonsStyleModel",
     "state": {
      "_model_module": "@jupyter-widgets/controls",
      "_model_module_version": "1.5.0",
      "_model_name": "ToggleButtonsStyleModel",
      "_view_count": null,
      "_view_module": "@jupyter-widgets/base",
      "_view_module_version": "1.2.0",
      "_view_name": "StyleView",
      "button_width": "",
      "description_width": "",
      "font_weight": ""
     }
    },
    "8d709ec9ec484944b1f9773748857f84": {
     "model_module": "@jupyter-widgets/controls",
     "model_name": "ProgressStyleModel",
     "state": {
      "_model_module": "@jupyter-widgets/controls",
      "_model_module_version": "1.5.0",
      "_model_name": "ProgressStyleModel",
      "_view_count": null,
      "_view_module": "@jupyter-widgets/base",
      "_view_module_version": "1.2.0",
      "_view_name": "StyleView",
      "bar_color": null,
      "description_width": ""
     }
    },
    "9bb3600d38c04691b444ff375ad5e3f5": {
     "model_module": "@jupyter-widgets/output",
     "model_name": "OutputModel",
     "state": {
      "_dom_classes": [],
      "_model_module": "@jupyter-widgets/output",
      "_model_module_version": "1.0.0",
      "_model_name": "OutputModel",
      "_view_count": null,
      "_view_module": "@jupyter-widgets/output",
      "_view_module_version": "1.0.0",
      "_view_name": "OutputView",
      "layout": "IPY_MODEL_4f8f81ab97b041a58a53c85a1ab97bd4",
      "msg_id": "",
      "outputs": [
       {
        "image/png": "iVBORw0KGgoAAAANSUhEUgAAAeoAAAFlCAYAAAAki6s3AAAABHNCSVQICAgIfAhkiAAAAAlwSFlz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\nAAAm9n9QR+M8QEgGtgAAAABJRU5ErkJggg==\n",
        "metadata": {
         "tags": []
        },
        "output_type": "display_data",
        "text/plain": "<Figure size 576x396 with 1 Axes>"
       }
      ]
     }
    },
    "9e338844e75b4e17be8483529f5f38fd": {
     "model_module": "@jupyter-widgets/controls",
     "model_name": "ProgressStyleModel",
     "state": {
      "_model_module": "@jupyter-widgets/controls",
      "_model_module_version": "1.5.0",
      "_model_name": "ProgressStyleModel",
      "_view_count": null,
      "_view_module": "@jupyter-widgets/base",
      "_view_module_version": "1.2.0",
      "_view_name": "StyleView",
      "bar_color": null,
      "description_width": ""
     }
    },
    "d5b6fce1763b4b54898ff3397b0f5bb0": {
     "model_module": "@jupyter-widgets/controls",
     "model_name": "IntProgressModel",
     "state": {
      "_dom_classes": [],
      "_model_module": "@jupyter-widgets/controls",
      "_model_module_version": "1.5.0",
      "_model_name": "IntProgressModel",
      "_view_count": null,
      "_view_module": "@jupyter-widgets/controls",
      "_view_module_version": "1.5.0",
      "_view_name": "ProgressView",
      "bar_style": "",
      "description": "Processing: ",
      "description_tooltip": null,
      "layout": "IPY_MODEL_2a81017413ca4fe789c2272a5831a069",
      "max": 5,
      "min": 0,
      "orientation": "horizontal",
      "style": "IPY_MODEL_57b94ac505d142769b79de2f1e5c1166",
      "value": 5
     }
    }
   }
  }
 },
 "nbformat": 4,
 "nbformat_minor": 1
}
